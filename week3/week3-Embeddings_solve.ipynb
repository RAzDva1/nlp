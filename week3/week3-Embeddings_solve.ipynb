{
 "cells": [
  {
   "cell_type": "markdown",
   "metadata": {
    "id": "K5U0uAM0bR2J"
   },
   "source": [
    "# Find duplicate questions on StackOverflow by their embeddings\n",
    "\n",
    "In this assignment you will learn how to calculate a similarity for pieces of text. Using this approach you will know how to find duplicate questions from [StackOverflow](https://stackoverflow.com)."
   ]
  },
  {
   "cell_type": "markdown",
   "metadata": {
    "id": "mpgyAaP7bR2N"
   },
   "source": [
    "### Libraries\n",
    "\n",
    "In this task you will you will need the following libraries:\n",
    "- [StarSpace](https://github.com/facebookresearch/StarSpace) — a general-purpose model for efficient learning of entity embeddings from Facebook\n",
    "- [Gensim](https://radimrehurek.com/gensim/) — a tool for solving various NLP-related tasks (topic modeling, text representation, ...)\n",
    "- [Numpy](http://www.numpy.org) — a package for scientific computing.\n",
    "- [scikit-learn](http://scikit-learn.org/stable/index.html) — a tool for data mining and data analysis.\n",
    "- [Nltk](http://www.nltk.org) — a platform to work with human language data."
   ]
  },
  {
   "cell_type": "markdown",
   "metadata": {
    "id": "1IokQE7pbR2N"
   },
   "source": [
    "### Data\n",
    "\n",
    "The following cell will download all data required for this assignment into the folder `week3/data`."
   ]
  },
  {
   "cell_type": "code",
   "execution_count": null,
   "metadata": {
    "colab": {
     "base_uri": "https://localhost:8080/",
     "height": 466,
     "referenced_widgets": [
      "05bf6ef6bdee4b96810b9e8a6070336b",
      "d51c7b79c75749189c9a4a158ed42180",
      "64d4ffdcbc054478a14380cb2cb3d2da",
      "0ea4856711734dd49bc33ec7b0ee92c3",
      "e9f662db86294618be297b3b08d3aaae",
      "18a31af4b9d44d998dc3e6715e053d72",
      "89e141652f13488db257265f03566fc6",
      "4e7604a7e31c43c6951025b31d889a06",
      "db7542869fc74af19ea76b50d7a93074",
      "b73b8195454b4390a20c3ed2aec9b5f0",
      "f6a0b247d50e41ad86c7a41d4b538808",
      "be2a8b879b184b26aae3cb8c4351cb0d",
      "743cdca92e764600b242ef105dcd5c49",
      "ade77b67b14c4211bec5c1f61f717d0f",
      "5dba220a53b34ac69ab83e79545481f3",
      "e717c785a39f4c30a680d03bb96008f7",
      "6589eb6328b74e01a0c3202f4981d9cd",
      "f4e6723708834d9aa2c98bd005646ba7",
      "528980f0c63d429daa8055dd07f16706",
      "bb536672ecc64f6891def83af061822b",
      "ac76262ce4474dfb85f49ce7c27cb962",
      "b83e535a394a4aaca506e73737ec6691",
      "be1c44f7f08a4c779883ff2823fcfbae",
      "767b269743424942b0a2951b3ad9f373",
      "aeb4cb2d756c4de9ac0a8f5d5f389f88",
      "af58dbbc30584f188bf427bc335089db",
      "505a72f35516429cb2b74f5d7ba73f97",
      "c2d0122257854989bcac61830ab17411",
      "a745df305a414a4894f278f1407d3937",
      "71e9afc0805c47a6b838b30e8b70685b",
      "22c0272148894d78832a6cff206dbdda",
      "016652659bff46129ce38880a25caa39",
      "112f8bc925594f4abf95036e1d8608a5",
      "e91995db5d1d4e17b92d789c7264a603",
      "f4734f4359994bcdb4e5924d7bc32847",
      "b91f044204f244e9b1b9efe386407835",
      "ef528320a2d54d13b44cb6687bcd7429",
      "1fd25b60dc124ac9b70013ad94134ad8",
      "107a06d0c72048dabbb267682e46cc72",
      "ffb6f67cf849473b97f8bbbcc66adefd"
     ]
    },
    "collapsed": true,
    "executionInfo": {
     "elapsed": 90547,
     "status": "ok",
     "timestamp": 1620365406366,
     "user": {
      "displayName": "Valentin Goryachev",
      "photoUrl": "",
      "userId": "06670255808124058379"
     },
     "user_tz": -180
    },
    "id": "KdqT5bvdbR2O",
    "outputId": "0822db89-5f2e-43f8-dbda-98b2f5e3b057"
   },
   "outputs": [
    {
     "name": "stdout",
     "output_type": "stream",
     "text": [
      "--2021-05-07 05:28:36--  https://raw.githubusercontent.com/hse-aml/natural-language-processing/master/setup_google_colab.py\n",
      "Resolving raw.githubusercontent.com (raw.githubusercontent.com)... 185.199.108.133, 185.199.109.133, 185.199.110.133, ...\n",
      "Connecting to raw.githubusercontent.com (raw.githubusercontent.com)|185.199.108.133|:443... connected.\n",
      "HTTP request sent, awaiting response... 200 OK\n",
      "Length: 1939 (1.9K) [text/plain]\n",
      "Saving to: ‘setup_google_colab.py’\n",
      "\n",
      "\r",
      "setup_google_colab.   0%[                    ]       0  --.-KB/s               \r",
      "setup_google_colab. 100%[===================>]   1.89K  --.-KB/s    in 0s      \n",
      "\n",
      "2021-05-07 05:28:36 (32.6 MB/s) - ‘setup_google_colab.py’ saved [1939/1939]\n",
      "\n"
     ]
    },
    {
     "data": {
      "application/vnd.jupyter.widget-view+json": {
       "model_id": "05bf6ef6bdee4b96810b9e8a6070336b",
       "version_major": 2,
       "version_minor": 0
      },
      "text/plain": [
       "HBox(children=(FloatProgress(value=0.0, max=119127793.0), HTML(value='')))"
      ]
     },
     "metadata": {
      "tags": []
     },
     "output_type": "display_data"
    },
    {
     "name": "stdout",
     "output_type": "stream",
     "text": [
      "\n"
     ]
    },
    {
     "data": {
      "application/vnd.jupyter.widget-view+json": {
       "model_id": "db7542869fc74af19ea76b50d7a93074",
       "version_major": 2,
       "version_minor": 0
      },
      "text/plain": [
       "HBox(children=(FloatProgress(value=0.0, max=535543630.0), HTML(value='')))"
      ]
     },
     "metadata": {
      "tags": []
     },
     "output_type": "display_data"
    },
    {
     "name": "stdout",
     "output_type": "stream",
     "text": [
      "\n"
     ]
    },
    {
     "data": {
      "application/vnd.jupyter.widget-view+json": {
       "model_id": "6589eb6328b74e01a0c3202f4981d9cd",
       "version_major": 2,
       "version_minor": 0
      },
      "text/plain": [
       "HBox(children=(FloatProgress(value=0.0, max=46408910.0), HTML(value='')))"
      ]
     },
     "metadata": {
      "tags": []
     },
     "output_type": "display_data"
    },
    {
     "name": "stdout",
     "output_type": "stream",
     "text": [
      "\n"
     ]
    },
    {
     "data": {
      "application/vnd.jupyter.widget-view+json": {
       "model_id": "aeb4cb2d756c4de9ac0a8f5d5f389f88",
       "version_major": 2,
       "version_minor": 0
      },
      "text/plain": [
       "HBox(children=(FloatProgress(value=0.0, max=5333.0), HTML(value='')))"
      ]
     },
     "metadata": {
      "tags": []
     },
     "output_type": "display_data"
    },
    {
     "name": "stdout",
     "output_type": "stream",
     "text": [
      "\n",
      "Downloading GoogleNews-vectors-negative300.bin.gz (1.5G) for you, it will take a while...\n"
     ]
    },
    {
     "data": {
      "application/vnd.jupyter.widget-view+json": {
       "model_id": "112f8bc925594f4abf95036e1d8608a5",
       "version_major": 2,
       "version_minor": 0
      },
      "text/plain": [
       "HBox(children=(FloatProgress(value=0.0, max=1647046227.0), HTML(value='')))"
      ]
     },
     "metadata": {
      "tags": []
     },
     "output_type": "display_data"
    },
    {
     "name": "stdout",
     "output_type": "stream",
     "text": [
      "\n"
     ]
    }
   ],
   "source": [
    "try:\n",
    "    import google.colab\n",
    "    IN_COLAB = True\n",
    "except:\n",
    "    IN_COLAB = False\n",
    "\n",
    "if IN_COLAB:\n",
    "    ! wget https://raw.githubusercontent.com/hse-aml/natural-language-processing/master/setup_google_colab.py -O setup_google_colab.py\n",
    "    import setup_google_colab\n",
    "    setup_google_colab.setup_week3()\n",
    "    \n",
    "import sys\n",
    "sys.path.append(\"..\")\n",
    "from common.download_utils import download_week3_resources\n",
    "\n",
    "download_week3_resources()"
   ]
  },
  {
   "cell_type": "markdown",
   "metadata": {
    "id": "EWEU2HT6bR2O"
   },
   "source": [
    "### Grading\n",
    "We will create a grader instace below and use it to collect your answers. Note that these outputs will be stored locally inside grader and will be uploaded to platform only after running submiting function in the last part of this assignment. If you want to make partial submission, you can run that cell any time you want."
   ]
  },
  {
   "cell_type": "code",
   "execution_count": null,
   "metadata": {
    "collapsed": true,
    "id": "Z-aNeAxjbR2P"
   },
   "outputs": [],
   "source": [
    "from grader import Grader"
   ]
  },
  {
   "cell_type": "code",
   "execution_count": null,
   "metadata": {
    "collapsed": true,
    "id": "773HVmUpbR2P"
   },
   "outputs": [],
   "source": [
    "grader = Grader()"
   ]
  },
  {
   "cell_type": "markdown",
   "metadata": {
    "id": "iV0F3Zu_bR2P"
   },
   "source": [
    "## Word embedding\n",
    "\n",
    "To solve the problem, you will use two different models of embeddings:\n",
    "\n",
    " - [Pre-trained word vectors](https://code.google.com/archive/p/word2vec/) from Google which were trained on a part of Google News dataset (about 100 billion words). The model contains 300-dimensional vectors for 3 million words and phrases. `GoogleNews-vectors-negative300.bin.gz` will be downloaded in `download_week3_resources()`.\n",
    " - Representations using StarSpace on StackOverflow data sample. You will need to train them from scratch."
   ]
  },
  {
   "cell_type": "markdown",
   "metadata": {
    "id": "596QOL_ObR2P"
   },
   "source": [
    "It's always easier to start with pre-trained embeddings. Unpack the pre-trained Goggle's vectors and upload them using the function [KeyedVectors.load_word2vec_format](https://radimrehurek.com/gensim/models/keyedvectors.html) from gensim library with the parameter *binary=True*. If the size of the embeddings is larger than the avaliable memory, you could load only a part of the embeddings by defining the parameter *limit* (recommended: 500000)."
   ]
  },
  {
   "cell_type": "code",
   "execution_count": null,
   "metadata": {
    "collapsed": true,
    "id": "t4mvABpEbR2P"
   },
   "outputs": [],
   "source": [
    "import gensim\n",
    "from gensim.models import KeyedVectors"
   ]
  },
  {
   "cell_type": "code",
   "execution_count": 82,
   "metadata": {
    "collapsed": true,
    "executionInfo": {
     "elapsed": 153904,
     "status": "ok",
     "timestamp": 1620373385983,
     "user": {
      "displayName": "Valentin Goryachev",
      "photoUrl": "",
      "userId": "06670255808124058379"
     },
     "user_tz": -180
    },
    "id": "ML-lZPgfbR2Q"
   },
   "outputs": [],
   "source": [
    "wv_embeddings = gensim.models.KeyedVectors.load_word2vec_format('/content/GoogleNews-vectors-negative300.bin.gz', binary=True) # YOUR CODE HERE #"
   ]
  },
  {
   "cell_type": "markdown",
   "metadata": {
    "id": "BJu-OR_0bR2Q"
   },
   "source": [
    "### How to work with Google's word2vec embeddings?\n",
    "\n",
    "Once you have loaded the representations, make sure you can access them. First, you can check if the loaded embeddings contain a word:\n",
    "    \n",
    "    'word' in wv_embeddings\n",
    "    \n",
    "Second, to get the corresponding embedding you can use the square brackets:\n",
    "\n",
    "    wv_embeddings['word']\n",
    " \n",
    "### Checking that the embeddings are correct \n",
    " \n",
    "To prevent any errors during the first stage, we can check that the loaded embeddings are correct. You can call the function *check_embeddings*, implemented below, which runs 3 tests:\n",
    "1. Find the most similar word for provided \"positive\" and \"negative\" words.\n",
    "2. Find which word from the given list doesn’t go with the others.\n",
    "3. Find the most similar word for the provided one.\n",
    "\n",
    "In the right case the function will return the string *These embeddings look good*. Othervise, you need to validate the previous steps."
   ]
  },
  {
   "cell_type": "code",
   "execution_count": 83,
   "metadata": {
    "colab": {
     "base_uri": "https://localhost:8080/"
    },
    "executionInfo": {
     "elapsed": 147919,
     "status": "ok",
     "timestamp": 1620373385984,
     "user": {
      "displayName": "Valentin Goryachev",
      "photoUrl": "",
      "userId": "06670255808124058379"
     },
     "user_tz": -180
    },
    "id": "UwNKU5VKk4is",
    "outputId": "cef678eb-5194-45f8-e5ab-f5c7675bd250"
   },
   "outputs": [
    {
     "data": {
      "text/plain": [
       "True"
      ]
     },
     "execution_count": 83,
     "metadata": {
      "tags": []
     },
     "output_type": "execute_result"
    }
   ],
   "source": [
    "'word' in wv_embeddings"
   ]
  },
  {
   "cell_type": "code",
   "execution_count": null,
   "metadata": {
    "id": "Vg0VBfe4lsMd"
   },
   "outputs": [],
   "source": [
    "wv_embeddings['word'] == wv_embeddings.get_vector('word')"
   ]
  },
  {
   "cell_type": "code",
   "execution_count": null,
   "metadata": {
    "id": "3kew2O35nyAG"
   },
   "outputs": [],
   "source": [
    "wv_embeddings?"
   ]
  },
  {
   "cell_type": "code",
   "execution_count": null,
   "metadata": {
    "colab": {
     "base_uri": "https://localhost:8080/"
    },
    "executionInfo": {
     "elapsed": 587,
     "status": "ok",
     "timestamp": 1620219006732,
     "user": {
      "displayName": "Valentin Goryachev",
      "photoUrl": "",
      "userId": "06670255808124058379"
     },
     "user_tz": -180
    },
    "id": "JKs_aLjnk8yK",
    "outputId": "baa92912-3180-4e3d-dfc2-decd004e4056"
   },
   "outputs": [
    {
     "data": {
      "text/plain": [
       "gensim.models.keyedvectors.Word2VecKeyedVectors"
      ]
     },
     "execution_count": 15,
     "metadata": {
      "tags": []
     },
     "output_type": "execute_result"
    }
   ],
   "source": [
    "type(wv_embeddings)"
   ]
  },
  {
   "cell_type": "code",
   "execution_count": 74,
   "metadata": {
    "collapsed": true,
    "executionInfo": {
     "elapsed": 584,
     "status": "ok",
     "timestamp": 1620372624091,
     "user": {
      "displayName": "Valentin Goryachev",
      "photoUrl": "",
      "userId": "06670255808124058379"
     },
     "user_tz": -180
    },
    "id": "Mn6C-od3bR2Q"
   },
   "outputs": [],
   "source": [
    "def check_embeddings(embeddings):\n",
    "    error_text = \"Something wrong with your embeddings ('%s test isn't correct).\"\n",
    "    most_similar = embeddings.most_similar(positive=['woman', 'king'], negative=['man'])\n",
    "    if len(most_similar) < 1 or most_similar[0][0] != 'queen':\n",
    "        return error_text % \"Most similar\"\n",
    "\n",
    "    doesnt_match = embeddings.doesnt_match(['breakfast', 'cereal', 'dinner', 'lunch'])\n",
    "    if doesnt_match != 'cereal':\n",
    "        return error_text % \"Doesn't match\"\n",
    "    \n",
    "    most_similar_to_given = embeddings.most_similar_to_given('music', ['water', 'sound', 'backpack', 'mouse'])\n",
    "    if most_similar_to_given != 'sound':\n",
    "        return error_text % \"Most similar to given\"\n",
    "    \n",
    "    return \"These embeddings look good.\""
   ]
  },
  {
   "cell_type": "code",
   "execution_count": null,
   "metadata": {
    "colab": {
     "base_uri": "https://localhost:8080/"
    },
    "executionInfo": {
     "elapsed": 10963,
     "status": "ok",
     "timestamp": 1620219287886,
     "user": {
      "displayName": "Valentin Goryachev",
      "photoUrl": "",
      "userId": "06670255808124058379"
     },
     "user_tz": -180
    },
    "id": "C0pgoyCRbR2Q",
    "outputId": "8d1d1e02-f1ff-468e-c117-03c2dda878a5"
   },
   "outputs": [
    {
     "name": "stdout",
     "output_type": "stream",
     "text": [
      "These embeddings look good.\n"
     ]
    },
    {
     "name": "stderr",
     "output_type": "stream",
     "text": [
      "/usr/local/lib/python3.7/dist-packages/gensim/models/keyedvectors.py:895: FutureWarning: arrays to stack must be passed as a \"sequence\" type such as list or tuple. Support for non-sequence iterables such as generators is deprecated as of NumPy 1.16 and will raise an error in the future.\n",
      "  vectors = vstack(self.word_vec(word, use_norm=True) for word in used_words).astype(REAL)\n"
     ]
    }
   ],
   "source": [
    "print(check_embeddings(wv_embeddings))"
   ]
  },
  {
   "cell_type": "markdown",
   "metadata": {
    "id": "YM7biArSbR2R"
   },
   "source": [
    "## From word to text embeddings\n",
    "\n",
    "**Task 1 (Question2Vec).** Usually, we have word-based embeddings, but for the task we need to create a representation for the whole question. It could be done in different ways. In our case we will use a **mean** of all word vectors in the question. Now you need to implement the function *question_to_vec*, which calculates the question representation described above. This function should work with the input text as is without any preprocessing.\n",
    "\n",
    "Note that there could be words without the corresponding embeddings. In this case, you can just skip these words and don't take them into account during calculating the result. If the question doesn't contain any known word with embedding, the function should return a zero vector."
   ]
  },
  {
   "cell_type": "code",
   "execution_count": 53,
   "metadata": {
    "collapsed": true,
    "executionInfo": {
     "elapsed": 556,
     "status": "ok",
     "timestamp": 1620371845842,
     "user": {
      "displayName": "Valentin Goryachev",
      "photoUrl": "",
      "userId": "06670255808124058379"
     },
     "user_tz": -180
    },
    "id": "2R2MBvcibR2R"
   },
   "outputs": [],
   "source": [
    "import numpy as np"
   ]
  },
  {
   "cell_type": "code",
   "execution_count": 68,
   "metadata": {
    "collapsed": true,
    "executionInfo": {
     "elapsed": 549,
     "status": "ok",
     "timestamp": 1620372162069,
     "user": {
      "displayName": "Valentin Goryachev",
      "photoUrl": "",
      "userId": "06670255808124058379"
     },
     "user_tz": -180
    },
    "id": "dzD_b8_ibR2R"
   },
   "outputs": [],
   "source": [
    "def question_to_vec(question, embeddings, dim=300):\n",
    "    \"\"\"\n",
    "        question: a string\n",
    "        embeddings: dict where the key is a word and a value is its' embedding\n",
    "        dim: size of the representation\n",
    "\n",
    "        result: vector representation for the question\n",
    "    \"\"\"\n",
    "    ######################################\n",
    "    ######### YOUR CODE HERE #############\n",
    "    ######################################\n",
    "    cnt = 0\n",
    "    result = np.zeros(dim)\n",
    "    for word in question.split():\n",
    "        if word in embeddings:\n",
    "            result += embeddings[word]\n",
    "            cnt += 1\n",
    "    return result  if cnt == 0 else result / cnt"
   ]
  },
  {
   "cell_type": "markdown",
   "metadata": {
    "id": "VKlr0SahbR2S"
   },
   "source": [
    "To check the basic correctness of your implementation, run the function *question_to_vec_tests*."
   ]
  },
  {
   "cell_type": "code",
   "execution_count": 67,
   "metadata": {
    "collapsed": true,
    "executionInfo": {
     "elapsed": 975,
     "status": "ok",
     "timestamp": 1620372156961,
     "user": {
      "displayName": "Valentin Goryachev",
      "photoUrl": "",
      "userId": "06670255808124058379"
     },
     "user_tz": -180
    },
    "id": "OTvRtHJ0bR2S"
   },
   "outputs": [],
   "source": [
    "def question_to_vec_tests():\n",
    "    if (np.zeros(300) != question_to_vec('', wv_embeddings)).any():\n",
    "        return \"You need to return zero vector for empty question.\"\n",
    "    if (np.zeros(300) != question_to_vec('thereisnosuchword', wv_embeddings)).any():\n",
    "        return \"You need to return zero vector for the question, which consists only unknown words.\"\n",
    "    if (wv_embeddings['word'] != question_to_vec('word', wv_embeddings)).any():\n",
    "        return \"You need to check the corectness of your function.\"\n",
    "    if ((wv_embeddings['I'] + wv_embeddings['am']) / 2 != question_to_vec('I am', wv_embeddings)).any():\n",
    "        return \"Your function should calculate a mean of word vectors.\"\n",
    "    if (wv_embeddings['word'] != question_to_vec('thereisnosuchword word', wv_embeddings)).any():\n",
    "        return \"You should not consider words which embeddings are unknown.\"\n",
    "    return \"Basic tests are passed.\""
   ]
  },
  {
   "cell_type": "code",
   "execution_count": null,
   "metadata": {
    "colab": {
     "base_uri": "https://localhost:8080/"
    },
    "collapsed": true,
    "executionInfo": {
     "elapsed": 547,
     "status": "ok",
     "timestamp": 1620220304952,
     "user": {
      "displayName": "Valentin Goryachev",
      "photoUrl": "",
      "userId": "06670255808124058379"
     },
     "user_tz": -180
    },
    "id": "mqNJ9zV3bR2S",
    "outputId": "3bfe7b31-0caf-446e-ccee-7987c3639ac3"
   },
   "outputs": [
    {
     "name": "stdout",
     "output_type": "stream",
     "text": [
      "Basic tests are passed.\n"
     ]
    }
   ],
   "source": [
    "print(question_to_vec_tests())"
   ]
  },
  {
   "cell_type": "markdown",
   "metadata": {
    "id": "QfzaaZe8bR2S"
   },
   "source": [
    "You can submit embeddings for the questions from the file *test_embeddings.tsv* to earn the points. In this task you don't need to transform the text of a question somehow."
   ]
  },
  {
   "cell_type": "code",
   "execution_count": null,
   "metadata": {
    "colab": {
     "base_uri": "https://localhost:8080/"
    },
    "collapsed": true,
    "executionInfo": {
     "elapsed": 543,
     "status": "ok",
     "timestamp": 1620365500839,
     "user": {
      "displayName": "Valentin Goryachev",
      "photoUrl": "",
      "userId": "06670255808124058379"
     },
     "user_tz": -180
    },
    "id": "7V3pLw95bR2S",
    "outputId": "705759ac-7fdb-4397-ad67-af5f5a3ce9ee"
   },
   "outputs": [
    {
     "name": "stdout",
     "output_type": "stream",
     "text": [
      "[nltk_data] Downloading package stopwords to /root/nltk_data...\n",
      "[nltk_data]   Unzipping corpora/stopwords.zip.\n"
     ]
    }
   ],
   "source": [
    "import nltk\n",
    "nltk.download('stopwords')\n",
    "from util import array_to_string"
   ]
  },
  {
   "cell_type": "code",
   "execution_count": 84,
   "metadata": {
    "colab": {
     "base_uri": "https://localhost:8080/"
    },
    "collapsed": true,
    "executionInfo": {
     "elapsed": 649,
     "status": "ok",
     "timestamp": 1620373386646,
     "user": {
      "displayName": "Valentin Goryachev",
      "photoUrl": "",
      "userId": "06670255808124058379"
     },
     "user_tz": -180
    },
    "id": "kd58KrILbR2S",
    "outputId": "0e0d034d-b2a4-41aa-a170-c977ccae45f3"
   },
   "outputs": [
    {
     "name": "stdout",
     "output_type": "stream",
     "text": [
      "Current answer for task Question2Vec is: 0.019293891059027776\n",
      "-0.028727213541666668\n",
      "0.046056111653645836\n",
      "0.08525933159722222\n",
      "0.02430555555555...\n"
     ]
    }
   ],
   "source": [
    "question2vec_result = []\n",
    "for question in open('data/test_embeddings.tsv'):\n",
    "    question = question.strip()\n",
    "    answer = question_to_vec(question, wv_embeddings)\n",
    "    question2vec_result = np.append(question2vec_result, answer)\n",
    "\n",
    "grader.submit_tag('Question2Vec', array_to_string(question2vec_result))"
   ]
  },
  {
   "cell_type": "markdown",
   "metadata": {
    "id": "1mBgunsxbR2T"
   },
   "source": [
    "Now we have a method to create a representation of any sentence and we are ready for the first evaluation. So, let's check how well our solution (Google's vectors + *question_to_vec*) will work.\n",
    "\n",
    "## Evaluation of text similarity\n",
    "\n",
    "We can imagine that if we use good embeddings, the cosine similarity between the duplicate sentences should be less than for the random ones. Overall, for each pair of duplicate sentences we can generate *R* random negative examples and find out the position of the correct duplicate.  \n",
    "\n",
    "For example, we have the question `\"Exceptions What really happens\"` and we are sure that another question `\"How does the catch keyword determine the type of exception that was thrown\"` is a duplicate. But our model doesn't know it and tries to find out the best option also among questions like `\"How Can I Make These Links Rotate in PHP\"`, `\"NSLog array description not memory address\"` and `\"PECL_HTTP not recognised php ubuntu\"`. The goal of the model is to rank all these 4 questions (1 `positive` and `R` = 3 `negative`) in the way that the correct one is in the first place.\n",
    "\n",
    "However, it is unnatural to count on that the best candidate will be always in the first place. So let us consider the place of the best candidate in the sorted list of candidates and formulate a metric based on it. We can fix some `K` — a reasonalble number of top-ranked elements and `N` — a number of queries (size of the sample).\n",
    "\n",
    "### Hits@K\n",
    "\n",
    "The first simple metric will be a number of correct hits for some *K*:\n",
    "$$ \\text{Hits@K} = \\frac{1}{N}\\sum_{i=1}^N \\, [dup_i \\in topK(q_i)]$$\n",
    "\n",
    "where $q_i$ is the i-th query, $dup_i$ is its duplicate, $topK(q_i)$ is the top K elements of the ranked sentences provided by our model and the operation $[dup_i \\in topK(q_i)]$ equals 1 if the condition is true and 0 otherwise (more details about this operation could be found [here](https://en.wikipedia.org/wiki/Iverson_bracket)).\n",
    "\n",
    "\n",
    "### DCG@K\n",
    "The second one is a simplified [DCG metric](https://en.wikipedia.org/wiki/Discounted_cumulative_gain):\n",
    "\n",
    "$$ \\text{DCG@K} = \\frac{1}{N} \\sum_{i=1}^N\\frac{1}{\\log_2(1+rank_{dup_i})}\\cdot[rank_{dup_i} \\le K] $$\n",
    "\n",
    "where $rank_{dup_i}$ is a position of the duplicate in the sorted list of the nearest sentences for the query $q_i$. According to this metric, the model gets a higher reward for a higher position of the correct answer. If the answer does not appear in topK at all, the reward is zero. "
   ]
  },
  {
   "cell_type": "markdown",
   "metadata": {
    "id": "Ydw2TRCCbR2T"
   },
   "source": [
    "### Evaluation examples\n",
    "\n",
    "Let's calculate the described metrics for the toy example introduced above. In this case $N$ = 1 and the correct candidate for $q_1$ is `\"How does the catch keyword determine the type of exception that was thrown\"`. Consider the following ranking of the candidates:\n",
    "1. `\"How Can I Make These Links Rotate in PHP\"`\n",
    "2. `\"How does the catch keyword determine the type of exception that was thrown\"`\n",
    "3. `\"NSLog array description not memory address\"`\n",
    "4. `\"PECL_HTTP not recognised php ubuntu\"`\n",
    "\n",
    "Using the ranking above, calculate `Hits@K` metric for `K = 1, 2, 4`: \n",
    " \n",
    "- [K = 1] $\\text{Hits@1} = \\frac{1}{1}\\sum_{i=1}^1 \\, [dup_i \\in top1(q_i)] = [dup_1 \\in top1(q_1)] = 0$ because the correct answer doesn't appear in the *top1* list.\n",
    "- [K = 2] $\\text{Hits@2} = \\frac{1}{1}\\sum_{i=1}^1 \\, [dup_i \\in top2(q_i)] = [dup_1 \\in top2(q_1)] = 1$ because $rank_{dup_1} = 2$.\n",
    "- [K = 4] $\\text{Hits@4} = \\frac{1}{1}\\sum_{i=1}^1 \\, [dup_i \\in top4(q_i)] = [dup_1 \\in top4(q_1)] = 1$\n",
    "\n",
    "Using the ranking above, calculate `DCG@K` metric for `K = 1, 2, 4`:\n",
    "\n",
    "- [K = 1] $\\text{DCG@1} = \\frac{1}{1} \\sum_{i=1}^1\\frac{1}{\\log_2(1+rank_{dup_i})}\\cdot[rank_{dup_i} \\le 1] = \\frac{1}{\\log_2(1+rank_{dup_i})}\\cdot[rank_{dup_i} \\le 1] = 0$ because the correct answer doesn't appear in the top1 list.\n",
    "- [K = 2] $\\text{DCG@2} = \\frac{1}{1} \\sum_{i=1}^1\\frac{1}{\\log_2(1+rank_{dup_i})}\\cdot[rank_{dup_i} \\le 2] = \\frac{1}{\\log_2{3}}$, because $rank_{dup_1} = 2$.\n",
    "- [K = 4] $\\text{DCG@4} = \\frac{1}{1} \\sum_{i=1}^1\\frac{1}{\\log_2(1+rank_{dup_i})}\\cdot[rank_{dup_i} \\le 4] = \\frac{1}{\\log_2{3}}$.\n"
   ]
  },
  {
   "cell_type": "markdown",
   "metadata": {
    "id": "iyw228DzbR2T"
   },
   "source": [
    "**Tasks 2 and 3 (HitsCount and DCGScore).** Implement the functions *hits_count* and *dcg_score* as described above. Each function has two arguments: `dup_ranks` and `k`. `dup_ranks` is a list which contains `values of ranks` of duplicates. For example, *dup_ranks* is `[2]` for the example provided above."
   ]
  },
  {
   "cell_type": "code",
   "execution_count": null,
   "metadata": {
    "collapsed": true,
    "id": "lG88RZiZbR2T"
   },
   "outputs": [],
   "source": [
    "def hits_count(dup_ranks, k):\n",
    "    \"\"\"\n",
    "        dup_ranks: list of duplicates' ranks; one rank per question; \n",
    "                   length is a number of questions which we are looking for duplicates; \n",
    "                   rank is a number from 1 to len(candidates of the question); \n",
    "                   e.g. [2, 3] means that the first duplicate has the rank 2, the second one — 3.\n",
    "        k: number of top-ranked elements (k in Hits@k metric)\n",
    "\n",
    "        result: return Hits@k value for current ranking\n",
    "    \"\"\"\n",
    "    ######################################\n",
    "    ######### YOUR CODE HERE #############\n",
    "    ######################################\n",
    "    return sum(1 if x <= k else 0 for x in dup_ranks) / len(dup_ranks)"
   ]
  },
  {
   "cell_type": "markdown",
   "metadata": {
    "id": "UuLo-QHubR2U"
   },
   "source": [
    "Test your code on the tiny examples:"
   ]
  },
  {
   "cell_type": "code",
   "execution_count": null,
   "metadata": {
    "collapsed": true,
    "id": "b1hu_3FSbR2U"
   },
   "outputs": [],
   "source": [
    "def test_hits():\n",
    "    # *Evaluation example*\n",
    "    # answers — dup_i\n",
    "    answers = [\"How does the catch keyword determine the type of exception that was thrown\"]\n",
    "    \n",
    "    # candidates_ranking — the ranked sentences provided by our model\n",
    "    candidates_ranking = [[\"How Can I Make These Links Rotate in PHP\", \n",
    "                           \"How does the catch keyword determine the type of exception that was thrown\",\n",
    "                           \"NSLog array description not memory address\",\n",
    "                           \"PECL_HTTP not recognised php ubuntu\"]]\n",
    "    # dup_ranks — position of the dup_i in the list of ranks +1\n",
    "    dup_ranks = [candidates_ranking[i].index(answers[i]) + 1 for i in range(len(answers))]\n",
    "    \n",
    "    # correct_answers — the expected values of the result for each k from 1 to 4\n",
    "    correct_answers = [0, 1, 1, 1]\n",
    "    for k, correct in enumerate(correct_answers, 1):\n",
    "        if not np.isclose(hits_count(dup_ranks, k), correct):\n",
    "            return \"Check the function.\"\n",
    "    \n",
    "    # Other tests\n",
    "    answers = [\"How does the catch keyword determine the type of exception that was thrown\", \n",
    "               \"Convert Google results object (pure js) to Python object\"]\n",
    "    \n",
    "    # The first test: both duplicates on the first position in ranked list\n",
    "    candidates_ranking = [[\"How does the catch keyword determine the type of exception that was thrown\",\n",
    "                           \"How Can I Make These Links Rotate in PHP\"], \n",
    "                          [\"Convert Google results object (pure js) to Python object\",\n",
    "                           \"WPF- How to update the changes in list item of a list\"]]\n",
    "    dup_ranks = [candidates_ranking[i].index(answers[i]) + 1 for i in range(len(answers))]\n",
    "    correct_answers = [1, 1]\n",
    "    for k, correct in enumerate(correct_answers, 1):\n",
    "        if not np.isclose(hits_count(dup_ranks, k), correct):\n",
    "            return \"Check the function (test: both duplicates on the first position in ranked list).\"\n",
    "        \n",
    "    # The second test: one candidate on the first position, another — on the second\n",
    "    candidates_ranking = [[\"How Can I Make These Links Rotate in PHP\", \n",
    "                           \"How does the catch keyword determine the type of exception that was thrown\"], \n",
    "                          [\"Convert Google results object (pure js) to Python object\",\n",
    "                           \"WPF- How to update the changes in list item of a list\"]]\n",
    "    dup_ranks = [candidates_ranking[i].index(answers[i]) + 1 for i in range(len(answers))]\n",
    "    correct_answers = [0.5, 1]\n",
    "    for k, correct in enumerate(correct_answers, 1):\n",
    "        if not np.isclose(hits_count(dup_ranks, k), correct):\n",
    "            return \"Check the function (test: one candidate on the first position, another — on the second).\"\n",
    "\n",
    "    # The third test: both candidates on the second position\n",
    "    candidates_ranking = [[\"How Can I Make These Links Rotate in PHP\", \n",
    "                           \"How does the catch keyword determine the type of exception that was thrown\"], \n",
    "                          [\"WPF- How to update the changes in list item of a list\",\n",
    "                           \"Convert Google results object (pure js) to Python object\"]]\n",
    "    dup_ranks = [candidates_ranking[i].index(answers[i]) + 1 for i in range(len(answers))]\n",
    "    correct_answers = [0, 1]\n",
    "    for k, correct in enumerate(correct_answers, 1):\n",
    "        if not np.isclose(hits_count(dup_ranks, k), correct):\n",
    "            return \"Check the function (test: both candidates on the second position).\"\n",
    "\n",
    "    return \"Basic test are passed.\""
   ]
  },
  {
   "cell_type": "code",
   "execution_count": null,
   "metadata": {
    "colab": {
     "base_uri": "https://localhost:8080/"
    },
    "collapsed": true,
    "executionInfo": {
     "elapsed": 812,
     "status": "ok",
     "timestamp": 1620223183458,
     "user": {
      "displayName": "Valentin Goryachev",
      "photoUrl": "",
      "userId": "06670255808124058379"
     },
     "user_tz": -180
    },
    "id": "XOFMS2zqbR2U",
    "outputId": "7210a357-a196-4a5f-c20b-07f9d55559d6"
   },
   "outputs": [
    {
     "name": "stdout",
     "output_type": "stream",
     "text": [
      "Basic test are passed.\n"
     ]
    }
   ],
   "source": [
    "print(test_hits())"
   ]
  },
  {
   "cell_type": "code",
   "execution_count": 71,
   "metadata": {
    "collapsed": true,
    "executionInfo": {
     "elapsed": 559,
     "status": "ok",
     "timestamp": 1620372511165,
     "user": {
      "displayName": "Valentin Goryachev",
      "photoUrl": "",
      "userId": "06670255808124058379"
     },
     "user_tz": -180
    },
    "id": "q6nVNlj8bR2U"
   },
   "outputs": [],
   "source": [
    "def dcg_score(dup_ranks, k):\n",
    "    \"\"\"\n",
    "        dup_ranks: list of duplicates' ranks; one rank per question; \n",
    "                   length is a number of questions which we are looking for duplicates; \n",
    "                   rank is a number from 1 to len(candidates of the question); \n",
    "                   e.g. [2, 3] means that the first duplicate has the rank 2, the second one — 3.\n",
    "        k: number of top-ranked elements (k in DCG@k metric)\n",
    "\n",
    "        result: return DCG@k value for current ranking\n",
    "    \"\"\"\n",
    "    ######################################\n",
    "    ######### YOUR CODE HERE #############\n",
    "    ######################################\n",
    "    result = 0\n",
    "    for i in dup_ranks:\n",
    "        if i <= k:\n",
    "            result += 1 / np.log2(1 + i)\n",
    "    return result / len(dup_ranks)"
   ]
  },
  {
   "cell_type": "code",
   "execution_count": null,
   "metadata": {
    "collapsed": true,
    "id": "GuqkrVBSbR2U"
   },
   "outputs": [],
   "source": [
    "def test_dcg():\n",
    "    # *Evaluation example*\n",
    "    # answers — dup_i\n",
    "    answers = [\"How does the catch keyword determine the type of exception that was thrown\"]\n",
    "    \n",
    "    # candidates_ranking — the ranked sentences provided by our model\n",
    "    candidates_ranking = [[\"How Can I Make These Links Rotate in PHP\", \n",
    "                           \"How does the catch keyword determine the type of exception that was thrown\",\n",
    "                           \"NSLog array description not memory address\",\n",
    "                           \"PECL_HTTP not recognised php ubuntu\"]]\n",
    "    # dup_ranks — position of the dup_i in the list of ranks +1\n",
    "    dup_ranks = [candidates_ranking[i].index(answers[i]) + 1 for i in range(len(answers))]\n",
    "    \n",
    "    # correct_answers — the expected values of the result for each k from 1 to 4\n",
    "    correct_answers = [0, 1 / (np.log2(3)), 1 / (np.log2(3)), 1 / (np.log2(3))]\n",
    "    for k, correct in enumerate(correct_answers, 1):\n",
    "        if not np.isclose(dcg_score(dup_ranks, k), correct):\n",
    "            return \"Check the function.\"\n",
    "    \n",
    "    # Other tests\n",
    "    answers = [\"How does the catch keyword determine the type of exception that was thrown\", \n",
    "               \"Convert Google results object (pure js) to Python object\"]\n",
    "\n",
    "    # The first test: both duplicates on the first position in ranked list\n",
    "    candidates_ranking = [[\"How does the catch keyword determine the type of exception that was thrown\",\n",
    "                           \"How Can I Make These Links Rotate in PHP\"], \n",
    "                          [\"Convert Google results object (pure js) to Python object\",\n",
    "                           \"WPF- How to update the changes in list item of a list\"]]\n",
    "    dup_ranks = [candidates_ranking[i].index(answers[i]) + 1 for i in range(len(answers))]\n",
    "    correct_answers = [1, 1]\n",
    "    for k, correct in enumerate(correct_answers, 1):\n",
    "        if not np.isclose(dcg_score(dup_ranks, k), correct):\n",
    "            return \"Check the function (test: both duplicates on the first position in ranked list).\"\n",
    "        \n",
    "    # The second test: one candidate on the first position, another — on the second\n",
    "    candidates_ranking = [[\"How Can I Make These Links Rotate in PHP\", \n",
    "                           \"How does the catch keyword determine the type of exception that was thrown\"], \n",
    "                          [\"Convert Google results object (pure js) to Python object\",\n",
    "                           \"WPF- How to update the changes in list item of a list\"]]\n",
    "    dup_ranks = [candidates_ranking[i].index(answers[i]) + 1 for i in range(len(answers))]\n",
    "    correct_answers = [0.5, (1 + (1 / (np.log2(3)))) / 2]\n",
    "    for k, correct in enumerate(correct_answers, 1):\n",
    "        if not np.isclose(dcg_score(dup_ranks, k), correct):\n",
    "            return \"Check the function (test: one candidate on the first position, another — on the second).\"\n",
    "        \n",
    "    # The third test: both candidates on the second position\n",
    "    candidates_ranking = [[\"How Can I Make These Links Rotate in PHP\",\n",
    "                           \"How does the catch keyword determine the type of exception that was thrown\"], \n",
    "                          [\"WPF- How to update the changes in list item of a list\",\n",
    "                           \"Convert Google results object (pure js) to Python object\"]]\n",
    "    dup_ranks = [candidates_ranking[i].index(answers[i]) + 1 for i in range(len(answers))]\n",
    "    correct_answers = [0, 1 / (np.log2(3))]\n",
    "    for k, correct in enumerate(correct_answers, 1):\n",
    "        if not np.isclose(dcg_score(dup_ranks, k), correct):\n",
    "            return \"Check the function (test: both candidates on the second position).\"\n",
    "\n",
    "    return \"Basic test are passed.\""
   ]
  },
  {
   "cell_type": "code",
   "execution_count": null,
   "metadata": {
    "colab": {
     "base_uri": "https://localhost:8080/"
    },
    "executionInfo": {
     "elapsed": 463,
     "status": "ok",
     "timestamp": 1620223602485,
     "user": {
      "displayName": "Valentin Goryachev",
      "photoUrl": "",
      "userId": "06670255808124058379"
     },
     "user_tz": -180
    },
    "id": "UJzsSXbhbR2V",
    "outputId": "3930a958-48e6-4752-d043-b1ec62f9669e"
   },
   "outputs": [
    {
     "name": "stdout",
     "output_type": "stream",
     "text": [
      "Basic test are passed.\n"
     ]
    }
   ],
   "source": [
    "print(test_dcg())"
   ]
  },
  {
   "cell_type": "markdown",
   "metadata": {
    "id": "zcyAoLJAbR2V"
   },
   "source": [
    "Submit results of the functions *hits_count* and *dcg_score* for the following examples to earn the points."
   ]
  },
  {
   "cell_type": "code",
   "execution_count": 85,
   "metadata": {
    "collapsed": true,
    "executionInfo": {
     "elapsed": 648,
     "status": "ok",
     "timestamp": 1620373386647,
     "user": {
      "displayName": "Valentin Goryachev",
      "photoUrl": "",
      "userId": "06670255808124058379"
     },
     "user_tz": -180
    },
    "id": "vXh3ZGdebR2V"
   },
   "outputs": [],
   "source": [
    "test_examples = [\n",
    "    [1],\n",
    "    [1, 2],\n",
    "    [2, 1],\n",
    "    [1, 2, 3],\n",
    "    [1, 2, 3, 4, 5, 6, 7, 8, 9, 10],\n",
    "    [9, 5, 4, 2, 8, 10, 7, 6, 1, 3],\n",
    "    [4, 3, 5, 1, 9, 10, 7, 8, 2, 6],\n",
    "    [5, 1, 7, 6, 2, 3, 8, 9, 10, 4],\n",
    "    [6, 3, 1, 4, 7, 2, 9, 8, 10, 5],\n",
    "    [10, 9, 8, 7, 6, 5, 4, 3, 2, 1],\n",
    "]"
   ]
  },
  {
   "cell_type": "code",
   "execution_count": null,
   "metadata": {
    "id": "WQRI8pVJMCjo"
   },
   "outputs": [],
   "source": [
    "### MY COMPERHANTION HINT METRIC ### \n",
    "for example in test_examples:\n",
    "    for k in range(len(example)):\n",
    "        print(\"example = \", example, \"k = \", k, \"hits@{} = \".format(k+1), hits_count(example, k + 1))"
   ]
  },
  {
   "cell_type": "code",
   "execution_count": 86,
   "metadata": {
    "colab": {
     "base_uri": "https://localhost:8080/"
    },
    "executionInfo": {
     "elapsed": 643,
     "status": "ok",
     "timestamp": 1620373386647,
     "user": {
      "displayName": "Valentin Goryachev",
      "photoUrl": "",
      "userId": "06670255808124058379"
     },
     "user_tz": -180
    },
    "id": "hkNFz9F7bR2V",
    "outputId": "4545faaa-931d-4d7d-a3b2-c0ebb55e05f9"
   },
   "outputs": [
    {
     "name": "stdout",
     "output_type": "stream",
     "text": [
      "Current answer for task HitsCount is: 1.0\n",
      "0.5\n",
      "1.0\n",
      "0.5\n",
      "1.0\n",
      "0.3333333333333333\n",
      "0.6666666666666666\n",
      "1.0\n",
      "0.1\n",
      "0.2\n",
      "0.3\n",
      "0.4\n",
      "0.5\n",
      "0.6\n",
      "0.7\n",
      "0.8\n",
      "0.9\n",
      "1....\n"
     ]
    }
   ],
   "source": [
    "hits_results = []\n",
    "for example in test_examples:\n",
    "    for k in range(len(example)):\n",
    "        hits_results.append(hits_count(example, k + 1))\n",
    "grader.submit_tag('HitsCount', array_to_string(hits_results))"
   ]
  },
  {
   "cell_type": "code",
   "execution_count": 87,
   "metadata": {
    "colab": {
     "base_uri": "https://localhost:8080/"
    },
    "executionInfo": {
     "elapsed": 639,
     "status": "ok",
     "timestamp": 1620373386647,
     "user": {
      "displayName": "Valentin Goryachev",
      "photoUrl": "",
      "userId": "06670255808124058379"
     },
     "user_tz": -180
    },
    "id": "Wd0pX9bkbR2V",
    "outputId": "0edd3b12-57ce-49eb-85a3-6676ef09b17f"
   },
   "outputs": [
    {
     "name": "stdout",
     "output_type": "stream",
     "text": [
      "Current answer for task DCGScore is: 1.0\n",
      "0.5\n",
      "0.8154648767857288\n",
      "0.5\n",
      "0.8154648767857288\n",
      "0.3333333333333333\n",
      "0.5436432511904858\n",
      "0.7103099178...\n"
     ]
    }
   ],
   "source": [
    "dcg_results = []\n",
    "for example in test_examples:\n",
    "    for k in range(len(example)):\n",
    "        dcg_results.append(dcg_score(example, k + 1))\n",
    "grader.submit_tag('DCGScore', array_to_string(dcg_results))"
   ]
  },
  {
   "cell_type": "markdown",
   "metadata": {
    "id": "t0lXzIHfbR2V"
   },
   "source": [
    "##  First solution: pre-trained embeddings"
   ]
  },
  {
   "cell_type": "markdown",
   "metadata": {
    "id": "l1uKKOWcbR2V"
   },
   "source": [
    "We will work with predefined train, validation and test corpora. All the files are tab-separated, but have a different format:\n",
    " - *train* corpus contains similar sentences at the same row.\n",
    " - *validation* corpus contains the following columns: *question*, *similar question*, *negative example 1*, *negative example 2*, ... \n",
    " - *test* corpus contains the following columns: *question*, *example 1*, *example 2*, ...\n",
    "\n",
    "Validation corpus will be used for the intermediate validation of models. The test data will be necessary for submitting the quality of your model in the system."
   ]
  },
  {
   "cell_type": "markdown",
   "metadata": {
    "id": "NNHUWEBFbR2W"
   },
   "source": [
    "Now you should read *validation* corpus, located at `data/validation.tsv`. You will use it later to evaluate current solution."
   ]
  },
  {
   "cell_type": "code",
   "execution_count": null,
   "metadata": {
    "collapsed": true,
    "id": "cPaq80S8bR2W"
   },
   "outputs": [],
   "source": [
    "def read_corpus(filename):\n",
    "    data = []\n",
    "    for line in open(filename, encoding='utf-8'):\n",
    "        data.append(line.strip().split('\\t'))\n",
    "    return data"
   ]
  },
  {
   "cell_type": "code",
   "execution_count": null,
   "metadata": {
    "collapsed": true,
    "id": "d-8GPrY3bR2W"
   },
   "outputs": [],
   "source": [
    "validation = read_corpus(\"/content/data/validation.tsv\")"
   ]
  },
  {
   "cell_type": "code",
   "execution_count": null,
   "metadata": {
    "collapsed": true,
    "id": "R7uzwWjkbR2W"
   },
   "outputs": [],
   "source": [
    "from sklearn.metrics.pairwise import cosine_similarity"
   ]
  },
  {
   "cell_type": "markdown",
   "metadata": {
    "id": "RDAFTaRNbR2W"
   },
   "source": [
    "We will use cosine distance to rank candidate questions which you need to implement in the function `rank_candidates`. The function should return a sorted list of pairs `(initial position in candidates list, candidate)`. Index of some pair corresponds to its rank (the first is the best). For example, if the list of candidates was `[a, b, c]` and the most similar is `c`, then `a` and `b`, the function should return a list `[(2, c), (0, a), (1, b)]`.\n",
    "\n",
    "Pay attention, if you use the function *cosine_similarity* from *sklearn.metrics.pairwise* to calculate similarity because it works in a different way: most similar objects has greatest similarity. It's preferable to use a vectorized version of *cosine_similarity* function. Try to compute similarity at once and not use list comprehension. It should speed up your computations significantly."
   ]
  },
  {
   "cell_type": "code",
   "execution_count": 66,
   "metadata": {
    "collapsed": true,
    "executionInfo": {
     "elapsed": 545,
     "status": "ok",
     "timestamp": 1620372145209,
     "user": {
      "displayName": "Valentin Goryachev",
      "photoUrl": "",
      "userId": "06670255808124058379"
     },
     "user_tz": -180
    },
    "id": "K2-f7PQZbR2W"
   },
   "outputs": [],
   "source": [
    "def rank_candidates(question, candidates, embeddings, dim=300):\n",
    "    \"\"\"\n",
    "        question: a string\n",
    "        candidates: a list of strings (candidates) which we want to rank\n",
    "        embeddings: some embeddings\n",
    "        dim: dimension of the current embeddings\n",
    "        \n",
    "        result: a list of pairs (initial position in the list, question)\n",
    "    \"\"\"\n",
    "    \n",
    "    ######################################\n",
    "    ######### YOUR CODE HERE #############\n",
    "    ######################################\n",
    "    question_emb = question_to_vec(question, embeddings, dim)\n",
    "    cnd_emb_list = [question_to_vec(cand, embeddings, dim) for cand in candidates]\n",
    "    emb_cos_sim = cosine_similarity(np.array([question_emb]), np.array(cnd_emb_list)).tolist()[0]\n",
    "    sor_ind = [x for x,y in sorted(enumerate(emb_cos_sim), reverse=True, key = lambda x: x[1])]\n",
    "    return [(ind, candidates[ind]) for ind in sor_ind]\n"
   ]
  },
  {
   "cell_type": "markdown",
   "metadata": {
    "id": "xRco2EFybR2W"
   },
   "source": [
    "Test your code on the tiny examples:"
   ]
  },
  {
   "cell_type": "code",
   "execution_count": null,
   "metadata": {
    "collapsed": true,
    "id": "nB5AKrnLbR2W"
   },
   "outputs": [],
   "source": [
    "def test_rank_candidates():\n",
    "    questions = ['converting string to list', 'Sending array via Ajax fails']\n",
    "    candidates = [['Convert Google results object (pure js) to Python object', \n",
    "                   'C# create cookie from string and send it',\n",
    "                   'How to use jQuery AJAX for an outside domain?'], \n",
    "                  ['Getting all list items of an unordered list in PHP', \n",
    "                   'WPF- How to update the changes in list item of a list', \n",
    "                   'select2 not displaying search results']]\n",
    "    results = [[(1, 'C# create cookie from string and send it'), \n",
    "                (0, 'Convert Google results object (pure js) to Python object'), \n",
    "                (2, 'How to use jQuery AJAX for an outside domain?')],\n",
    "               [(0, 'Getting all list items of an unordered list in PHP'), \n",
    "                (2, 'select2 not displaying search results'), \n",
    "                (1, 'WPF- How to update the changes in list item of a list')]]\n",
    "    for question, q_candidates, result in zip(questions, candidates, results):\n",
    "        ranks = rank_candidates(question, q_candidates, wv_embeddings, 300)\n",
    "        if not np.all(ranks == result):\n",
    "            return \"Check the function.\"\n",
    "    return \"Basic tests are passed.\""
   ]
  },
  {
   "cell_type": "code",
   "execution_count": null,
   "metadata": {
    "colab": {
     "base_uri": "https://localhost:8080/"
    },
    "collapsed": true,
    "executionInfo": {
     "elapsed": 366,
     "status": "ok",
     "timestamp": 1620230210755,
     "user": {
      "displayName": "Valentin Goryachev",
      "photoUrl": "",
      "userId": "06670255808124058379"
     },
     "user_tz": -180
    },
    "id": "HYKhqZ1kbR2X",
    "outputId": "5a2e9fe5-fd4e-437b-e7e6-97e9dbd197b5"
   },
   "outputs": [
    {
     "name": "stdout",
     "output_type": "stream",
     "text": [
      "Basic tests are passed.\n"
     ]
    }
   ],
   "source": [
    "print(test_rank_candidates())"
   ]
  },
  {
   "cell_type": "markdown",
   "metadata": {
    "id": "Rk94ClWJbR2X"
   },
   "source": [
    "Now we can test the quality of the current approach. Run the next two cells to get the results. Pay attention that calculation of similarity between vectors takes time and this calculation is computed approximately in 10 minutes."
   ]
  },
  {
   "cell_type": "code",
   "execution_count": null,
   "metadata": {
    "colab": {
     "base_uri": "https://localhost:8080/"
    },
    "executionInfo": {
     "elapsed": 861,
     "status": "ok",
     "timestamp": 1620230474295,
     "user": {
      "displayName": "Valentin Goryachev",
      "photoUrl": "",
      "userId": "06670255808124058379"
     },
     "user_tz": -180
    },
    "id": "zgojIZxGQFMk",
    "outputId": "d8c8ef14-eff2-4cfe-f9a1-701bbd7662af"
   },
   "outputs": [
    {
     "name": "stdout",
     "output_type": "stream",
     "text": [
      "[(0, 'How can i use ng-model with directive in angular js'), (2, 'toggle react component using hide show classname'), (1, 'flash: drawing and erasing')]\n",
      "1\n",
      "[0, 2, 1]\n",
      "0\n"
     ]
    }
   ],
   "source": [
    "q, *ex = validation[0]\n",
    "ranks = rank_candidates(q, ex[1:4], wv_embeddings)\n",
    "print(ranks)\n",
    "print([r[0] for r in ranks].index(0) + 1)\n",
    "print([r[0] for r in ranks])\n",
    "print([r[0] for r in ranks].index(0))"
   ]
  },
  {
   "cell_type": "code",
   "execution_count": null,
   "metadata": {
    "collapsed": true,
    "id": "TzOnK2HXbR2X"
   },
   "outputs": [],
   "source": [
    "wv_ranking = []\n",
    "for line in validation:\n",
    "    q, *ex = line\n",
    "    ranks = rank_candidates(q, ex, wv_embeddings)\n",
    "    wv_ranking.append([r[0] for r in ranks].index(0) + 1)"
   ]
  },
  {
   "cell_type": "code",
   "execution_count": null,
   "metadata": {
    "colab": {
     "base_uri": "https://localhost:8080/"
    },
    "collapsed": true,
    "executionInfo": {
     "elapsed": 688286,
     "status": "ok",
     "timestamp": 1620231187544,
     "user": {
      "displayName": "Valentin Goryachev",
      "photoUrl": "",
      "userId": "06670255808124058379"
     },
     "user_tz": -180
    },
    "id": "G6REpRXvbR2X",
    "outputId": "d30b9dcf-a59d-49f9-8aa4-71de3d0eb281"
   },
   "outputs": [
    {
     "name": "stdout",
     "output_type": "stream",
     "text": [
      "DCG@   1: 0.217 | Hits@   1: 0.217\n",
      "DCG@   5: 0.271 | Hits@   5: 0.319\n",
      "DCG@  10: 0.288 | Hits@  10: 0.370\n",
      "DCG@ 100: 0.326 | Hits@ 100: 0.560\n",
      "DCG@ 500: 0.358 | Hits@ 500: 0.818\n",
      "DCG@1000: 0.378 | Hits@1000: 1.000\n"
     ]
    }
   ],
   "source": [
    "for k in [1, 5, 10, 100, 500, 1000]:\n",
    "    print(\"DCG@%4d: %.3f | Hits@%4d: %.3f\" % (k, dcg_score(wv_ranking, k), k, hits_count(wv_ranking, k)))"
   ]
  },
  {
   "cell_type": "markdown",
   "metadata": {
    "id": "KbI-JmINbR2X"
   },
   "source": [
    "If you did all the steps correctly, you should be frustrated by the received results. Let's try to understand why the quality is so low. First of all, when you work with some data it is necessary to have an idea how the data looks like. Print several questions from the data:"
   ]
  },
  {
   "cell_type": "code",
   "execution_count": null,
   "metadata": {
    "colab": {
     "base_uri": "https://localhost:8080/"
    },
    "collapsed": true,
    "executionInfo": {
     "elapsed": 579,
     "status": "ok",
     "timestamp": 1620236703069,
     "user": {
      "displayName": "Valentin Goryachev",
      "photoUrl": "",
      "userId": "06670255808124058379"
     },
     "user_tz": -180
    },
    "id": "bgGysWtebR2X",
    "outputId": "752cfb27-820c-499d-d107-121afd1dee54"
   },
   "outputs": [
    {
     "name": "stdout",
     "output_type": "stream",
     "text": [
      "How to print a binary heap tree without recursion? How do you best convert a recursive function to an iterative one? How can i use ng-model with directive in angular js flash: drawing and erasing\n",
      "How to start PhoneStateListener programmatically? PhoneStateListener and service Java cast object[] to model WCF and What does this mean?\n",
      "jQuery: Show a div2 when mousenter over div1 is over when hover on div1 depenting on if it is on div2 or not it should act differently How to run selenium in google app engine/cloud? Python Comparing two lists of strings for similarities\n"
     ]
    }
   ],
   "source": [
    "for line in validation[:3]:\n",
    "    q, *examples = line\n",
    "    print(q, *examples[:3])"
   ]
  },
  {
   "cell_type": "markdown",
   "metadata": {
    "id": "GYz4TyOBbR2X"
   },
   "source": [
    "As you can see, we deal with the raw data. It means that we have many punctuation marks, special characters and unlowercased letters. In our case, it could lead to the situation where we can't find some embeddings, e.g. for the word \"grid?\". \n",
    "\n",
    "To solve this problem you should use the functions *text_prepare* from the previous assignments to prepare the data."
   ]
  },
  {
   "cell_type": "code",
   "execution_count": null,
   "metadata": {
    "collapsed": true,
    "id": "XVU71uw5bR2X"
   },
   "outputs": [],
   "source": [
    "from util import text_prepare"
   ]
  },
  {
   "cell_type": "markdown",
   "metadata": {
    "id": "ejlhKUeEbR2Y"
   },
   "source": [
    "Now transform all the questions from the validation set:"
   ]
  },
  {
   "cell_type": "code",
   "execution_count": null,
   "metadata": {
    "colab": {
     "base_uri": "https://localhost:8080/"
    },
    "executionInfo": {
     "elapsed": 751,
     "status": "ok",
     "timestamp": 1620237123138,
     "user": {
      "displayName": "Valentin Goryachev",
      "photoUrl": "",
      "userId": "06670255808124058379"
     },
     "user_tz": -180
    },
    "id": "vdgyg4O7pK8Q",
    "outputId": "ffa886f9-92d8-469f-80c2-ed230c9afdfc"
   },
   "outputs": [
    {
     "name": "stdout",
     "output_type": "stream",
     "text": [
      "[['print binary heap tree without recursion', 'best convert recursive function iterative one', 'use ngmodel directive angular js', 'flash drawing erasing', 'toggle react component using hide show classname', 'use usercontrol another project current webpage', 'paths resolved differently upgrading aspnet 4', 'materialize datepicker rendering icon clicked', 'creating pypi package could find version satisfies requirement iso8601', 'analyze confusion matrix', 'declare c array swift', 'using rand flipping coin rolling die', 'handling json field special character name java', 'react native select row listview push', 'get creation_time video using ffmpeg regex', 'row exist multiple', 'specify classifier gradle dependencys dependency', 'using unwind multiple documents', 'visual studio code missing x509certificate2ui', 'developing cordova plugins firefox os', 'update multiple rows 2 columns mysql', 'analyse format alphanumeric string', 'dealing large tiff images c++ magick libtiff', 'error injectorunpr unknown provider tprovider myactivelinkdirective mean', 'angularjs apply directive instantly formating currency', 'change font color portion string', 'spring aop intercept methods within springs container', 'retrieve json original nested form apache solr', 'spatial autocorrelation using morans spatial overlap index', 'stop php page continuing field empty', 'selecting checkboxes listbox displayed properly', 'php warning illegal string offset field', 'webbrowser control crashes windows 10', 'error opening modal angular', 'port 25 works exe run manually blocked run service', '600 + plus 500 500600', 'count number processes created using fork loop', 'use uiimagepickercontrollersourcetypephotolibrary instead uiimagepickercontrollersourcetypesavedphotosalbum', 'read file java output first comma delimited string', 'simple recursive method', 'ensure sqlite table one row', 'method iterator javautilcollection', 'development cloudant using local couchdb', 'regex find method calls', 'aspnet menu rendering different vs2008 vs2010', 'maven change junit version quickstart archetype', 'writing sublists list lists separate text files', 'ipad problems table rows popovercontrol', 'retrieve multiple results set', 'pagination working codeigniter', 'angular nvd3 change colors legends also', 'nodejs server responding large file upload express busboy', 'send request get response windows phone 81 winrt', 'want delete empty folders directory last 30 days using batch', 'creating x amount threads execute task time', 'android studio 22 update aligned apk zipalign generated using new gradle plugin 220', 'entity framework adding entity twice manytomany relationships', 'join two tables display unique values maxium date', 'use absolute position relative parent element', 'search refinement webmatrix site', 'maven project version expression constant', 'prevent appgics generated', 'troubles converting xsd java using jaxb', 'cannot run jax rs web service tomcat', 'make password protected bash script resist refuse bash x password given', 'youtube api play function trigger view count', 'perl loop strings characters slow', 'change size rgl plots shiny rmarkdown', 'programmatically disconnect clients connected solace appliance', 'rails before_filter correct_user admin', 'gitignore everything except hidden subdir', 'use weakself nested blocks', 'css background color behaving expected', 'android app listview cannot scrolled bottom search specific element using appium java', 'rails has_many association results nameerror uninitialized constant', 'send data fragments swiping tabs viewpager', 'wordpress static pages embed content templates', 'troubles importing classes angular 2 modules typescript 17', 'able get images read java exporting jar', 'create resource dll', 'error linker command failed ld duplicate symbol _main', 'sql find nonprintable characters string', 'want generate payperiod month', 'interactively enter headline place entry using capture', 'querying dns service records find hostname tcp ip', 'use setcontentview outside oncreate method', 'consolitate data multible sheets rearrange data per column name', 'transparent overlay view opaque', 'run play framework port9001 windows cmd play console', 'rails 3 ajax posts link click', 'add html content mysql die error', 'best way run plack psgi perl application outside apache using fastcgi', 'call nsuserdefault value another view controller', 'qt way get font particular css resolves', 'update parent component data child component modified angular 15', '2d array pushing one array shows arrays', 'get nsdata assetslibrary url', 'specify image size html doxygen', 'nsfetchedresultscontrollerdelegate second view controller firing', 'draggable divs getting mixed another divs', 'creating mlp python showing error', 'create sharepoint 2010 ribbon button programmatically w feature xml', 'use pyglet write music player play music list', 'efficiently debug loops consisting large number iterations eclipse', 'passing model object redirecttoaction without polluting url', 'automatically receiving mobile phones sms hyperterminal', 'output systemoutprintln emacs ciders repl buffer', 'scoring regression model using pmml augustus python', 'safari view controller send data back app', 'signalling bash script running background infinite loop', 'add inapp purchase published app play store test going production', 'filenotfoundexception windows 10 universal app uap', 'map one column columns avro file', 'retrieving cell data jquery datatable post', 'play frame work make classes models package singleton', 'binding events hammerjs', 'yii making user auto logged signup end auto authentication signup', 'unreal engine 4 save rendered frame memory', 'building helloworld c++ program linux ncurses', 'generating checkbox lists mvc3 using complex viewmodel cross table linq sql', 'cordovawebview timeout error', 'whats wrong xsd schema gives type element declared include another xsd file', 'angular papaparse integration', 'setup graylog2 server elasticsearch vagrant machine', 'solvedsee comment make password form tumblr', 'javascript call method inside another method', 'aws api gateway clientside ssl certificate verification nginx', 'kendo ui drop downs posting arrays', 'servicestack identity field pk insert fails', 'redirection rendering controller twig symfony 302', 'css sprites bottom repeating', 'sort table laravel eloquent objects custom attribute', 'comparing elements generic list', 'set mindate bootstrap datetimepicker another', 'difference g commands vim', 'java creating self extracting jar extract parts archive', 'set html text color size using javascript', 'queue using arrays', 'foreach loop using xmlxmlelement remote scriptblock', 'print list categories click category one one selenium appium', 'every abcpdf runs memory', 'spring oauth2 resource still unprotected even though marked resource server', 'restart node application automatically aws elasticbeanstalk', 'unresolved external symbol lnk2019', 'celltemplate angularuigrid working properly', 'escaping backslashes method call stringbyreplacingoccurrencesofstring work objective c', 'apex data loading add column programatically', 'mysql mariadb shuts exactly 1 minute 42 seconds', 'mouse movement mouseover javascript evaluation watir', 'removing backslashes string python', 'array manipulation accessing specific bytes', 'rails applicationcss load cssscss files', 'longlistselector cannot change itemssource', 'c# datetime recognising timezone change bst', 'deinit child view controllers', 'send back custom class object class clicked', 'delete array returning self', 'ms access properties', 'uiwebview always add parameter url issue', 'comparing two spanned strings edittext android', 'add prefix control id still bind mvc razor', 'exc_bad_access setting integer anything else zero', 'hover css working', 'blowfish last block incomplete decryption', 'reading uploaded image undefined method file nilnilclass', 'run intellij idea remote desktop', 'get jsonobject server response volley', 'guide organizing large django projects', 'populate dropdownlist based another dropdownlist selected value mvc 4', 'azure servicebus token expired', 'ibatis mybatis migration efforts', 'look document generated using htp package', 'tortoise svn error update specified path unexpected status', 'extract html data logging website android app', 'add key value array without triggering array', 'write math equation c++', 'undefined index php mysql error', 'text changed inputbox automatically updates next 6 text boxes', 'unable get email facebook user', 'iphone facebook logout feature work app', 'force app use 3g data proxy setting', 'unit testing code pretty much calculation gethashcode example', 'status checkbox cant detected', 'sort list multiple conditions ruby rails', 'sharp text css3', 'change class object dynamically c#', 'creating array default value default value changed', 'call delegates function without getting instance method found warning ios', 'android background drawable appear black genymotion looks fine intellij', 'table columns using google charts', 'dropdown list options populate second list js php', 'difference ruby', 'remove functionality changelist filter appearing django admin', 'unpack stxetx data python', 'ansible playbook calling role directory roles directory', 'setting https redirects heroku laravel instance', 'input helper valuebinding deprecated whats alternative', 'using mysqlconnector twisted python execute multiple queries', 'mysql 1 large table 100 columns split 5 tables join', 'neo4j load csv field name', 'mocha + react navigator defined', 'semantic ui grid display full width column computer columns hidden', 'populating select menu options using javascript', 'serializing mongodb find return nonanonymous json array using pymongo', 'geom tile white space issue x variable spread unevenly accross facet grids', 'moving files depending profile war', 'check last record sqldatareader', 'assigning columns numpy', 'android facebook apiexception invalid application', 'django customizing message successful form save', 'custom textbox builtin validator server side validation firing', 'embed mjpeg file webpage', 'php delete jquery doesnt work', 'awk doesnt work bash script', 'launch specific app external accessory attached', 'three inputs row bootstrap 3', 'compiler like gcc implement acquire release semantics stdmutex', 'framework search upcoming project', 'implementing web service server windows ce 2013', 'keep getting digital signature object verify windows javaee installer', 'hide paging numbers gridview', 'remove sublayers view afer touch', 'cuda find global memory coalescence', 'read google chrome crash dump windbg', 'jquery targeting nested list', 'pass column value checkbox clicked wijmogrid column', 'normalize database hibernate repeating values dont get saved', 'stop validation particular textbox hiding textbox using angularjs', 'opencv imshow waitkey slow mac os x 10102 using c++', 'setting input box background', 'intellij idea element ignore allowed', 'slider work jquery tabs', 'carrierwave getting image width height storing hstore field', 'openprocess succeeds enumprocessmodules fails', 'django + forms dynamic choices choicefield', 'using urlcontent display file content net mvc', 'pdo cannot able fetch image database', 'error adding overlay current location', 'internal section link fails beamer output pandoc markdown', 'adding row_number query loses distinct defeats purpose paged results attempt', 'android studio 1351339820 launches wrong java version opensuse 123', 'facebook object empty', 'java code reads utf8 text incorrectly', 'php sessioncookie_secure actually set cookie secure', 'using webapp2 get value forms name attribute post request', 'finding uppercase character adding space', 'table data pass stored procedure param insert another table mysql', 'inject entry point class gwt gin', 'group week year dates day dates start sundays oracle 10', 'options none sml', 'reversing mp3 programmatically', 'convert associative array php insert database', 'map version threesum slow', 'ant keeps recompiling', 'httpcontextcurrentuseridentityname returns blank', 'uiwebview javascript window window communication', 'fluent nhibernate exception association table x refers unmapped class systemstring', 'net memcache libraries production ready', 'db2 cant connect db new user', 'django flatpages backup', 'trouble creating onetime calendar event google sheet row', 'colored image turned color grey vector drawable', 'show pattern asprepeater item template', 'fastest scripting language java', 'tried reverse engineer app got weirdlooking file tree', 'startup bundles placed deploy folder karaf', 'd3js force layout hide unhide node click misplaces nodes expanding', 'unique column definition sql', 'hash cell text google spreadsheet', 'pin unpin microsoft edge developer tools windows 10', 'editor align tables restructuredtext sphinx', 'walk directory c print files name permissions', 'ios kvc dry mutation', 'ibm mobilefirst platform ifix doesnt update version displayed operations console', 'relative layout aligning images right bottom corner', 'retrieve pdf document tridion file system create multimedia component', 'html sends x post data inputs possible', 'view azure logfiles running locally', 'web service client code generator ios', 'get smallest type include data range', 'get dates check ending', 'cordova brightness still returns 1', 'detect 3 keyboard buttons swing', 'python calculations two groups', 'create array mysql query php', 'tdd vs defensive programming', 'display logo image ribbon using vsto', 'get meaning jsp variable java code page', 'conversion cloud data 2d image using opencv', 'pythonsuds bug one additional element created using factory', 'using clang analyze c++ code', 'login email password control working', 'ansible use different logging level terminal log file', 'draggable window pyqt4', 'dynamically adding edittext depending elements json array', 'convert ftpgetmodificationtime file readable format', 'php login form using dashdb', 'building properties file top level war file springmvc maven', 'enabling breakpoints goclipse', 'error including external jars ant script', 'comparison web widgets flash javascript', 'must free data owner', 'optimizing huge mysql table query mysql', 'tlbexpexe outputs different tlb information 2012 versus 2010', 'create facebook like post comment box', 'codeigniter pdo integration', 'pass string array parameter aspnet mvc webapi method', 'removing space dataframe python', 'set application identity application pool using web administration module powershell', 'handle play database connection exceptions', 'querydsl 330 using collectionany elementcollections query n boolean arguments generates n exists subqueries', 'gson change way mapkeys serialized', 'improving gnuplot 3d plots data files pm3d', 'divide problem', 'yii2 using kartik depdrop widget', 'anyone post example enable ssl tsung', 'mpi_isend mpi_irecv seem causing deadlock', 'virtual box port forwarding misery ruby sinatra4567 shotgun9292', 'enhancing regex match urls', 'javascript classlist selector error', 'intellij idea 1115 lost ability debug nodejs applications upgrading windows 81', 'scientific notation android java', 'make json array case insensitive twitter typeahead', 'membase someone explain idea behind technology', 'struts 2 + dojo + datetimepicker', 'cannot retrieve data find query', 'long resources used file descriptor memory java temporary files jar_cache####tmp', 'pass variable clause oracle sql', 'transform coordinates shapefile', 'mapping result aggregate query hibernate object', 'drawing application save drawing android phone memory', 'error using npm install g generatorjhipster', 'get abs path currently edited file eclipse', 'post form data foreign aspx form', 'logging azure web jobs', 'mtm automated codeduitest testcases developed vs2013 issues', 'print contents html element macgap', 'aspnet control available codebehind', 'disable iiviewdeck functionality momentarily', 'would create struct phantomdata member', 'accessing masterpage properties child pages aspnet vb', 'bash read inside loop reading file', 'random number 1 20 excluding numbers already picked', 'wordpress navigation label browser tab', 'taking control soundcard java', 'stl containers large amounts data', 'colour backorder products dropdown based stock woocommerce', 'richfaces richautocomplete showing suggestions', 'select enlarge masterpane zedgraph', 'reactnative android publishing keystore', 'good way find specific value xml document using c#', 'make singleton stateless bean ejb 30', 'google app engine precompile java', 'using dispose method instead close method form', 'spring oauth2 full authentication required access resource valid access token', 'code displaying incorrect even right answer', 'forcing function ode', 'get sum column last row good practice', 'simple karma + typescript configuration reference error x defined', 'error building player scripts compile errors editor', 'property testers load despite forcepluginactivation popup menu enablement', 'javascript regex match last word regardless specials characters', 'develop multilangual system', 'angularmock testing karma+mocha cant find module', 'append element inside object using common way', 'generate random dark colours java', 'access element list using indexes stored another list', 'correctly use setq elisp', 'ios today extension show show less state incorrect collapsed says show less requiring multipule presses fix', 'get position cursor editable div', 'flickering image swt', 'completely random identifier given length', 'angular 2 render flat list hierarchal data', 'java rmi threads clientside executing sequentially concurrently calling remote object', 'variablesize buffer receiving udp packets', 'createsqlquery entity formula property', 'datepicker timestamp divide 100', 'print whole table using anonymous block pl sql', 'sentora need integrate clamav module', 'set value multiple select tag database', 'show decimal value c#', 'javascript affect element hovering', 'creating new popup window click button', 'depict either inheritance uml diagram', 'ajax post success data separate results', 'documentgetelementbyid available chromiumwebbrowser visual studio', 'target assignment expands nonlanguage object', 'configure distributed transactions nservicebus', 'combine array png images like layers using c#', 'yii2 gii crud generator error class message exist syntax error', 'get values checkbox page', 'session subdomains still working', 'turn host name resolutios', 'syntax error unexpected endofinput', 'erlang extending existing module new functions', 'tcl string replacement', 'access directory plesk control panel', 'minimizing sum special function list', 'vbnet access set two foreign keys refer table field', 'memory monitoring tool erlang threads', 'disable spring boot security secured runtime', 'join two tables date closest date', 'power point viewer aspnet mvc', 'swift get element tuple', 'images rotation right', 'access visual voicemail files iphone thru sdk', 'proximity alert locations saved server', 'tableviewcell button', 'angularjs select mark matching model selected', 'use id action object android using robotium tool', 'pass value constructors collection instances runtime simple injector', 'large binary shifts 8086 assembly', 'directshow format type change filter', 'open model window option selection', 'update value sqlite iphone sdk', 'installing adt plugin eclipse android development', 'automating contextmenu watin', 'evaluate performance cryptographic algorithm say elliptic curve', 'nthchild selector prototype', 'difference performance compiled accelerate code ran ghci shell', 'database design email messaging system', 'java se development kit 8u20 install options', 'reading file chunks', 'twitter style web application based lamp symfony2 backbone possible', 'regexp c preprocessor command', 'cmposition dont quite get', 'cakephp form submits array', 'store feed forward network mongodb', 'bash read strings output one key multiple values', 'http client python fails recive', 'dynamic languages one choose', 'start intentservice wakefulbroadcastreceiver', 'c++ converting wstring unsigned char', 'make echo interpret backslash escapes print trailing newline', 'angularjs httpget working splitting service module longer working', 'determine number elements array reference', 'typeerror nonetype object iterable list', 'replace random image website', 'rotation matrix two camera system', 'animated border wraps around', 'cron job picking oracle query result', 'formview msajax updatepanel', 'update data treestore treeeditor component', 'get kwargs passed url_for flask view', 'reload template working enlive without restar', 'threadsafe get accessor method', 'tell inline worked', 'calling logic user logged using spring security', 'java pattern find two groups two letters abc', 'mysql distincs entry two columns even switched', 'antlr creates tokens', 'play framework 24 java http header cached response', 'list strings grails domain class', 'insert mongodb via nodejs', 'stop pause pandora spotify', 'oracle function replicate wm_concat', 'return user previous page login rails', 'custom layout manager using predefined developerdefined child view', 'ruby specify file another directory input', 'unable read view bag value controller view', 'parameters time stamps oracle sql developer', 'measuring time load page python', 'set height child height parent', 'find element caused another element fire focusout event', 'get latest created table mysql', 'better way reference scope angularjs', 'sharing data elastic beanstalk web worker tiers', 'ios certificate pinning swift nsurlsession', 'sharing udp data across apps background foreground split screen multitasking ios', 'iphone facebook logout feature working', 'autohotkey hotstrings autoreplace working visual studio 2008', 'issue setting android sdk failed start emulator', 'dismissable alert dismissed', 'error executing change data capture sql query', 'multiple queries routeget requires callback functions got object undefined', 'attach custom element shadow dom html web components secure way', 'flash javascript dont work second try', 'egit versions map git versions', 'ftp uploads works php', 'sql xml delphi', 'lookup table query arbitrary length without using loop r', 'c# xml deserialization xmlattribute', 'css jquery animated transform 3 lines menu cross', 'm2e install external jar file need install maven command line tool', 'gsoap restful implementation require definition wsdl', 'automatically create appointment outlook using message content', 'jsoup error javalangillegalargumentexception', 'add button cms_page_edit via observer', 'xor binary forms integer items list', 'add regularization scipy linear programming nonnegative leastsquares', 'highlight backgroung colors words html document java', 'way retrieve process stats using perl python', 'excel namedrangefind method regex pattern match c#', 'cmake error configuring', 'set first column constant value empty npzeros numpy matrix', 'eclipse plugin get launch configurations tree list dialog', 'restful best practices defining query parameter condition', 'extracting text input field using webdriver', 'one hr tag working firefox', 'ajax request xml php', 'embedded java server using grizzly enable http2', 'finding minimum completion time scheduled tasks topological sort', 'set jquery draggable min maxleft min maxright', 'semanticui modal size keeps extending height page', 'direct git command push changes another branch', 'worth integrate java webapp + drools + guvnor', 'debug error messsage odoo', 'calculate differences two numbers', 'data constructor template haskell', 'tying composerjson specific laravel 5 sha', 'django 171 requires default value field entry database', 'addentriesfromdictionary true copy method', 'spring boot oauth2 encrypted jwt access token', 'wrap text longer max_characters', 'iptables duplicating forwarding ports', 'multiple custom fields stored meta_keys connect post', 'android gridview crashes slow devices samsung galaxy s4 s3', 'html css input element weird indent ie7', 'exactly double mean java', 'effective ways extract android cursor sqlite array used alertdialogbuilder', 'jenkins find android sdk', 'open new window change dom calling window javascript', 'dynamically change itemized overlay draw circle using seek bar progress', 'fix djangodbutilsintegrityerror duplicate key value violates unique constraint', 'inno setup creating registry entry software microsoft windows currentversion uninstall', 'build hadoop source code centos', 'c# linqtosql submitchanges update even though pk set', 'read utf16 text file string golang', 'objective c epub framework', 'reducer output different files based keys', 'possible chrome extension get users full browsing history', 'variable number nested loops', 'ordered http request parameters', 'testing oracle to_date function', 'getting error post method another php file', 'multiple selection worksheets one workbook copy paste content one main sheet', 'keep getting developer inactive errors calling beats music api', 'select command doesnt work', 'node js read files line line', 'phpstorm webstorm increase memory 512mb', 'want open googlecom specific location make specific window size', 'database updating new row', 'spring suite tools start error spring boot', 'slider codenameone', 'issue toggle multiple classes', 'load file dir using racket', 'removing quotation mark using javascript remove single quotation marks', 'firebase android childeventlistener triggered onchildremoved onchildadded new data added', 'python error using animationfuncanimation', 'make inline comments orgmode', 'find years distinct digits ccc 2013', 'identify customer visits occurring given time period mysql', 'finding distinct count cassandra column using tableau', 'prism change active view', 'get color int', 'dynamic subversion repos via subdomains apache', 'multithread loop python', 'get recycler view list item count using espresso', 'pivot calculating column average', 'fastest way separate digits int array net', 'escaping special characters sphinxse', 'importing sqlite file r', 'sort order related products working magento 16', 'display 404 found template slugs publication returns empty cursor meteor ironrouter', 'way tell object implemented tostring explicitly c#', 'vfs filemax limit 1231582 reached', 'play 22 essentialaction futures', 'appbarlayout collapsingtoolbarlayout expands indefinitely', 'deselect radio button radio buttongroup button click flash as3', 'numpy array creating sequence', 'sed matching words permutation two characters', 'make child element appear outside parent', 'mobilepin createuserwizard doesnt work', 'fit image canvas using wpf', 'adding fontawesome icon border form input', 'finding pixel location listview item seems return wrong value', 'sails 098 work created controller lift', 'larave file found path exist', 'requiredfieldvalidator causes validation server even validator disabled causesvalidationfalse', 'retrieving html content page requiring authentication using php', 'generate linkedaxis matplotlib', 'print sign string formatting', 'calculate dimensions monitor pyqt4 windows linux', 'vba outlook 2010 retrieving information active directory', 'modifying bootstrap thumbnails', 'aspnet whats keeping old appdomains alive', 'library uses package project importing facebook sdk', 'unable run compiled classes command line', 'possible partially decode update json go', 'use apachecommons dbcp eclipselink jpa tomcat 7x', 'batch geocoding using googlemapsservicesjava', 'inserting img text field html css', 'noclassdeffounderror tomcat graceful shutdown', 'indesign idml file automation using html5 javascript', 'writing objectoutputstream getting rubbish back', 'stop mdcards stretching images full vertical height', 'sql missing end', 'sed search two pattern line insert word end line pattern match found', 'configure run multiple websites respective databases single laravel code instance', 'threejs canvasrenderer setting initial color object together transparency textures', 'ihtmldocument2 click button inside iframe', 'resource 1 works 2 doesnt', 'show image image field button click event c# aspnet', 'use killing array threads', 'mvc scaffolding support entity framework 6 later', 'parse error using remotipart', 'java jaxws deployment java eclipse ee ide', 'kaminari order_by', 'multisampling fragment shader', 'c program change char order sentence', 'reload iframe every x seconds', 'ef6 table per hierarchy unique index derived property', 'shell script add extension file directory', 'absolute beginners guide working audio c c++', 'extract part string', 'stopping toast android actvity', 'clientside ssl working aws api gateway', 'top left menu bar frozen main window shows', 'category axis label alignment multi series bar chart jasper', 'invalid label jquery ajax json request', 'optimizing haskell recursive lists', 'symfony3 service able get arguments', 'reverse geocoding displaying info window markers clicked', 'restrict background click ionic confirmation popup', 'use csparqlreadytogopack09 sbt project', 'sort utf8 lines vim', 'handle notfoundexception elegantly neo4j 20', 'download multiple files simultaneously php forking sockets', 'submit form one server process post results another domain', 'flyway mysql multiline comment directive parsed', 'nonblocking file reads', 'oracle sql dynamic variables stored procedure', 'nested ngfor two data classes angular2', 'crossplatform webview qt56', 'set default encoding utf8 jsps without using page directives', 'xslt creating table varying amount columns', 'send email powershell', 'asynchronous method using result', 'jenkins extensible choice parameter compatible linux', 'starting speech recognition createprocess c++', 'animate adding subviews', 'change default font jekyll website', 'impossible compile fortran code include statement', 'lazy loading images vue laravel', 'web api read header value controller constructor', 'android wear wearablelistview imageview selector', 'function pack returns 0', 'possible firebase authentication via facebook phonegap app', 'php export mysql csv results showing html', 'detect language preference laravel 5', 'vb webbrowser click button', 'reports using java collections', 'write files contain subfolders folders txt file', 'checking negative values google forms', 'libgdx reading json array values', 'custom buddypress notification post save', 'uitableview uitextfield keep data even user scrolls', 'visual studio 2015 update 1 automatically checks files', 'mobilefirst failed synchronizing application administration service', 'cannot execute loop vuejs', 'prevent duplicate item', 'java apache cli optionbuilder working builder pattern', 'whats proper way turn genymotion emulator', 'jade select field populating data', '2 10', 'mysql dump comments directives simple comments', 'cropping library working nexus', 'create segue attach two view controllers swift', 'function search recursively patterns vim', 'integrating wordpress laravel user management', 'behaviour takepicture different different devices android versions', 'exporting plone content get tarball created quintagrouptransmogrifierwriter', 'cassandra hive using spark', 'ruby rails before_filter only_when_user_is_logged_in', 'integrate jacoco reports sonarqube without using maven', 'use nspredicate key nsdictionary', 'proxy authentication failed error', 'could someone explain use updatemanager tidesdk 131 beta', 'properties avoid code repetition', 'pause resume video recording using avcapturemoviefileoutput', 'swift enum recursive associated value', 'grep particular string occurring multiple times', 'hover map area sprite jquery', 'spark livelistenerbus exception freaking', 'use pyplotarrow patchesarrow matplotlib', 'apache windows fiddler', 'pass variable api gateway url another service running ec2', 'open link doubleclicking table row jquery', 'wget span host images stylesheets javascript links', 'trying show data using api data showing custom listview list empty', 'graphing sbts incremental compilation logic', 'get functionality long press gesture ios ver 32', 'change priority headings task api', 'get values row based two rows excel', 'using silverlight hindrance startups', 'spotify session callback get_audio_buffer_stats', 'talend specify jndi datasource', 'long data load time matlab', 'change column width base content vbnet bootstrap', 'alternative microsoftpracticesenterpriselibrarydata', 'facetpivot springdatasolr', 'check empty output fish function', 'pysolr update document error', 'retrieve column twice different values column table', 'updated nodejs connectkeycloak middleware empty response error', 'accordion open page loads', 'activity doesnt refresh associated broadcast receivers onreceive gets called', 'detect doctype transitional strict serverside aspnet', 'firefox 901 broke internal wiki layout', 'onchange function dropdownlist yii2', 'play mp3 without default player', 'convert svg data svg file uploaded', 'folder picker ms word', 'cant hide close form switching another form', 'shellcode linux x64 processor', 'set specific timezone windows ce c#', 'vagrant enters aborted state aptget update', 'attempting make enter button clickable', 'imagemagick convert generating correct color', 'mybatis select nested objects', 'css height auto doesnt work', 'd3 angularjs force directed graph', 'want add 30 days mysql date row', 'use flexypool hikaricpfactory', 'wix installer verify sufficient privileges start system services', 'r ts error stl series less two periods erroneous', 'typo3 adding content footer', 'knockout render template new data model change event dropdown menu', 'manytomany relation save', 'downsampling fmri image fsl', 'use android autocompletetextview xamarinforms', 'fstreamtellg return value enlarged number newlines input text file file formated windows rn', 'determine two points near', 'clicking logo home page breaks navigation menu mobile site', 'use iframe embed csv allow user search', 'install chrome extension windows registry', 'display message success work', 'jquery masked input format date yyyy dd yyyy mm dd yyyy mm yyyy', 'change spring session redis cookie name', 'tool suggest unit reference automatically delphi 2010', 'method return null password', 'sql script manipulate value based previous non zero value', 'rotate image shows memory exception', 'count button clicks', 'joomla custom compoment dev env hot deployment', 'nexus 5 showing connected devices', 'work method trueforall c# linq', 'php simplest way post display', 'update temp table group', 'use parse push cordova appcelerator etc', 'as3 bitmapdata send server picture small upperleft corner', 'set z order index adorner wpf', 'php microseconds', 'creating global database connection mdi form', 'uncaught referenceerror react defined', 'vba search column strings copy row new worksheet', 'record test using espresso without clean install', 'char array reverse order', 'kind sctp support various windows versions', 'saving changes ec2 instance without register ami time', 'auto run jetty boot', 'cache jquery template backbone view via ajax', 'c++ static analysis rule make sense', 'ripple drawable effect appearing differently listview recyclerview', 'r ggplot2 assigning colours factor', 'verifying method called without using ioc', 'seg cs bootsects', 'settimeout keeps firing', 'formatting way string entered database', 'creating jenkins job using python api', 'python create single thread one task quit', 'z order issue constraintlayout android', 'derive class created factory', 'php oop passing session key classes', 'aspnet mvc 3 sql server', 'recreating deleting google services json', 'probe problem writing i2c device driver', 'jersey produce duplicate log messages', 'exit stop array2dinitbased early', 'set array date firedate local notification time', 'alternative async false ajax', 'oracle get percent total query', 'match recursive pattern r b including another string eg test aaabbb regex', 'disable gesturelistener', 'specify code style settings qt creator proshared file', 'cal extension template modification tmpl', 'getting started groovy grails', 'opening ruby programs source file default editor', 'pass array guid via web api', 'backbonerelational find load', 'whats best way format xml string ruby', 'partial classes google closure', 'add repository accountcontroller', 'wikipedia api autocomplete json', 'apache pig unable run pigjar pigwithouthadoopjar', 'optimizing list comprehension find pairs coprime numbers', 'kivy access child id', 'stucture values staying values changed 858993460', 'set toolbar title', 'add row table using swt', 'jquery ui selectmenu vertical position offset relatively buttons line', 'ssis warning failed decrypt encrypted xml node', 'gps getting user location', 'exporting simple model texture blender threejs', 'postman required multipartfile parameter present spring java', 'prevent akka actor restarting child actor', 'uitableview loaded', 'ntfs permission modify date', 'qtreeview tell drag drop event reorder move parents', 'prevent xul notificationbox closing button hit', 'code working notification go day', 'android action bar button show', 'widget function', 'jquery hide taking parameter', 'use one form table multiple mvcs', 'mstest execution order tests within testclass', 'call jquery function html returned ajax', 'oauth2 security considerations client_id', 'google compute instance 100 cpu utilisation', 'incompatible block pointer type returning array', 'calling rest api encrypted pem client certificate', 'select objects list', 'drag insert div another div', 'prevent firefox scrolling bottom page large popup opened', 'handle liststring sessionadd', 'mysql inserting 2 tables primary key foreign key', 'whats right way remove multiple items qtablewidget', 'mstest fails testinitialize doesnt testcleanup get executed', 'php codeigniter application opening page except default controller', 'parsing json data without quotes jquery', 'rewrite url htaccess', 'error socket error errno 111 connection refused', 'git error rpc failed result22 http code 401', 'tfs 2010 set state field certain value', 'actionscript 30 create progressevent instances loop multiple files loaded xml', 'extract query find average', 'c# windows service default arguments install', 'upload large files node js', 'changing table headers cakephp', 'hello world jms glassfish', 'countdown timer using datetimeparse without defined date', 'images drawable folder resized automatically', 'find files size dellete duplicates except one shortest name using shell script', 'writing rules firebase code', 'search words specific starts endings', 'install neo4j 30+ windows service', 'php convert 2 digit year 4 digit year', 'jsdoc autocomplete documentation eclipse working classcreate', 'split infix string array string java', 'folder permissions azure web sites', 'separators uitableviewcells', 'uncaught syntax error unrecognized expression object object', 'need htaccess redirection', 'create bootstrap carousel iframes', 'doctrine2 get entity id flush', 'xquery help sorted parent child relationship', 'load separate pages android gridview clicking blocks items', 'kineticjs rect filltext', 'query string valid', 'convert bytearrays nsstring objective c', 'stdchronoduration based seconds', 'wcf rest client exception', 'using uibinder create widget go dialog', 'onedrive business invalid_request error_descriptionaadsts90014 request body must contain following parameter grant_type', 'options interfacing command prompt process net application standard io', 'adding data database using microsoft access oledb c#', 'jquery ajax header passed', 'angularjs multiple views routing without losing scope', 'backbonejs merge collections', 'specflow could load file assembly techtalkspecflow version2200', 'max byte calculated systemruntimeinteropservicesmarshalsizeof', 'application retrieve custom fields docusign transaction', 'add active state button button group', 'define clear range pixel color', 'roslyn visualbasicscriptengine doesnt recognize hostobject written c#', 'neither bindingresult plain target object bean name categoryoptions available request attribute', 'change wicket behaviour page expired', 'phpunit code coverage show 0 coverage', 'prove code correctness lemmas undefined constant', 'visual studio insufficient privileges debug process debug process visual studio must run administrator', 'webapi entitysetcontroller using composite keys', 'set opengl project using xcode 42 c++', 'initialize static nsstring class level', 'rich text editor inside flux form', 'setting path xampp osx', 'extract data html using php', 'get current location using mapmodule', 'excel vba syntax errors compiling issues', 'read logback configuration file path outside war file', 'jquery ajax getting every div elements', 'tcp socket java byte 128 received 65533', 'sqlbulkcopy keeps throwing connection forcibly closed exception', 'error sending following valid addresses jenkins', 'determine text balanced delimiters', 'flick deck cards', 'selecting sqlite database android', 'tsql merge incorrect syntax near', 'building pocketsphinx android windows', 'add background image div without empty space div footer', 'include github project wordpress plugin', 'django multivaluefield multiwidget compress decompress working', 'android call onresume inside onpause', 'fit picture absolute positioning modal window', 'redirect url php file exist nginx', 'laravel 4 exception notfoundhttpexception', 'start using kostache', 'assigned access application exits ctrl + alt + delete pressed', 'circular dependency error running migrations django 17c2', 'javafx setonshown fires window visible', 'flash develop publishing', 'want use variable declared somewhere else cannot simple sql query', 'buttons displayed', 'prevent twitter responsive layout collapsing width 320px', 'show azure cost analysis data using azure billing api sdk', 'find field names search query', 'oauth 20 openid connect loopback keycloak', 'windows phone retrieve photo media library application instances', 'symfony2 determine controller called development environment production environment', 'uitableview fully reloaded', 'httppost url postdata options set header', 'json stringify outputs empty object empty object', 'displaysyncexec working inside callable', 'xpath first occurrence element text length 200 characters', 'unable push docker image local openshift origin registry', 'slidedown using javascript working intended', 'threadingtasks dispose meaning issue', 'val function javascript', 'using php send form emailhaving issue 405 allowed form submitted', 'netty closefuture sync channel blocks rest api', 'check specific button exists scrapy', 'remove logs ormlite android', 'language detection api library', 'make 1 form upvote button 1 form buttons', 'eclipse gae jdo 30', 'djangocms editors html data attribute cleaned', 'xcode build error clang failed', 'settimeout web worker', 'c# populating listview list', 'javascript working django inline formset using urlifyjs', 'php multi curl performance worse sequential file_get_contents', 'converting php contact form smtp', 'prevent original method called mocking class phpunit', 'ensure footer stick bottom page flex content', 'share files path using fileprovider', 'r build sum arrays third dimension containing nas returning list', 'speeding strangely slow rcpp function', 'create service sends receives udp broadcasts multiple interfaces', 'someone tell replace following javascript code loop', 'uiimageview layer border issue', 'com object created ccomobjectcreateinstance destroyed pointer goes scope', 'run 2 sql query 1 query save query result csv format', 'aws elastic beanstalk vs ec2 container service ecs docker', 'connect remote mongodb instance aspnet', 'copying files unicode names', 'aspnet web application doesnt unload appdomains deploy', 'getting youtube livestream url', 'cant use tostring linq entities query', 'list comprehension create list nodata value feed default value', 'jsx element type xxx construct call signatures', 'subroutine unexpectedly ends workbook closed', 'creating result set using select statement within loop', 'laravel 42 environment detection homesteadyaml vs startphp', 'deploy shell script ruby gem install bin directory', 'change string int', 'stop mysql decimal field rounded', 'respecting argparses privacy vs usability', 'simple web service python', 'emoji uiwebview ios 5', 'getting ioerror errno invalid number channels 9998 using mic pyaudio raspberry pi', 'mono mac os x parallel http downloads limited 2', 'delete files directories buckets amazon s3 java', 'android saving form data swipe rather button', 'description item name paypal payment received email', 'code igniter data mapper giving valid json', 'find official canonical documentation using javascript classic asp', 'broadcastreceiver isnt working', 'array compare count similar values', 'cancel viewwillappear uiimagepickercontroller dismissed', 'scala possible write script refers another script', 'reload page ie retaining scroll position', 'springboot multiple authentication adapter', 'smtp contact form blank screen submit', 'destroy sessions one', 'c# windows ce compact framework 20 set system timezone', 'appropriate representation 2d game board clojure', 'ionic emulate ios shows black screen', 'update api angularjs', 'javascript based redirect hurt seo', 'difference two soap requests', 'microsoft access report cycle pages report print view', 'actor akkaplaydeadletters tell mean new relics trace play framework 20 web transaction', 'jruby 170 install bundler given plenty memory', 'solr multiple tokenizers query', 'possible pass ejs variable angular ngrepeat filter', 'read data using ip address', 'ssis xml decryption message', 'detecting selection change uitextview', 'different css backgroundimage depending month year', 'whats equivalent averageifs standard deviation', 'segmentation faults using f2py', 'eclipse useful refactorings']]\n"
     ]
    }
   ],
   "source": [
    "prepared_validation = []\n",
    "for line in validation[:1]:\n",
    "    ######### YOUR CODE HERE #############\n",
    "    tmp_batch = []\n",
    "    for sentense in line:\n",
    "        tmp_batch.append(text_prepare(sentense))\n",
    "    prepared_validation.append(tmp_batch)\n",
    "print(prepared_validation)"
   ]
  },
  {
   "cell_type": "code",
   "execution_count": null,
   "metadata": {
    "collapsed": true,
    "id": "VoyloVJQbR2Z"
   },
   "outputs": [],
   "source": [
    "prepared_validation = []\n",
    "for line in validation:\n",
    "    ######### YOUR CODE HERE #############\n",
    "    prepared_validation.append([text_prepare(x) for x in line])"
   ]
  },
  {
   "cell_type": "markdown",
   "metadata": {
    "id": "C5UD4WdPbR2Z"
   },
   "source": [
    "Let's evaluate the approach again after the preparation:"
   ]
  },
  {
   "cell_type": "code",
   "execution_count": null,
   "metadata": {
    "collapsed": true,
    "id": "9dPSCWJcbR2Z"
   },
   "outputs": [],
   "source": [
    "wv_prepared_ranking = []\n",
    "for line in prepared_validation:\n",
    "    q, *ex = line\n",
    "    ranks = rank_candidates(q, ex, wv_embeddings)\n",
    "    wv_prepared_ranking.append([r[0] for r in ranks].index(0) + 1)"
   ]
  },
  {
   "cell_type": "code",
   "execution_count": null,
   "metadata": {
    "collapsed": true,
    "id": "2SZoEH4ObR2Z"
   },
   "outputs": [],
   "source": [
    "for k in [1, 5, 10, 100, 500, 1000]:\n",
    "    print(\"DCG@%4d: %.3f | Hits@%4d: %.3f\" % (k, dcg_score(wv_prepared_ranking, k), \n",
    "                                              k, hits_count(wv_prepared_ranking, k)))"
   ]
  },
  {
   "cell_type": "markdown",
   "metadata": {
    "id": "zoTc89sGbR2Z"
   },
   "source": [
    "Now, prepare also train and test data, because you will need it in the future:"
   ]
  },
  {
   "cell_type": "code",
   "execution_count": null,
   "metadata": {
    "collapsed": true,
    "id": "Lws2e-52bR2Z"
   },
   "outputs": [],
   "source": [
    "def prepare_file(in_, out_):\n",
    "    out = open(out_, 'w')\n",
    "    for line in open(in_, encoding='utf8'):\n",
    "        line = line.strip().split('\\t')\n",
    "        new_line = [text_prepare(q) for q in line]\n",
    "        print(*new_line, sep='\\t', file=out)\n",
    "    out.close()"
   ]
  },
  {
   "cell_type": "code",
   "execution_count": null,
   "metadata": {
    "collapsed": true,
    "id": "mDNiAk3abR2Z"
   },
   "outputs": [],
   "source": [
    "######################################\n",
    "######### YOUR CODE HERE #############\n",
    "######################################\n",
    "prepare_file(r'/content/data/train.tsv', '/content/prep/prep_train.tsv')\n",
    "prepare_file(r'/content/data/test.tsv', '/content/prep/prep_test.tsv')"
   ]
  },
  {
   "cell_type": "markdown",
   "metadata": {
    "id": "WSXqVYh0bR2a"
   },
   "source": [
    "**Task 4 (W2VTokenizedRanks).** For each question from prepared *test.tsv* submit the ranks of the candidates to earn the points. The calculations should take about 3-5 minutes. Pay attention that the function *rank_candidates* returns a ranking, while in this case you should find a position in this ranking. Ranks should start with 1."
   ]
  },
  {
   "cell_type": "code",
   "execution_count": 75,
   "metadata": {
    "collapsed": true,
    "executionInfo": {
     "elapsed": 774,
     "status": "ok",
     "timestamp": 1620372668717,
     "user": {
      "displayName": "Valentin Goryachev",
      "photoUrl": "",
      "userId": "06670255808124058379"
     },
     "user_tz": -180
    },
    "id": "2X8YHQtbbR2a"
   },
   "outputs": [],
   "source": [
    "from util import matrix_to_string"
   ]
  },
  {
   "cell_type": "code",
   "execution_count": 88,
   "metadata": {
    "colab": {
     "base_uri": "https://localhost:8080/"
    },
    "collapsed": true,
    "executionInfo": {
     "elapsed": 55988,
     "status": "ok",
     "timestamp": 1620373442001,
     "user": {
      "displayName": "Valentin Goryachev",
      "photoUrl": "",
      "userId": "06670255808124058379"
     },
     "user_tz": -180
    },
    "id": "axIiKDpJbR2a",
    "outputId": "39f55959-bcdc-4f78-cfa4-626f7eeff295"
   },
   "outputs": [
    {
     "name": "stdout",
     "output_type": "stream",
     "text": [
      "Current answer for task W2VTokenizedRanks is: 95\t94\t7\t9\t64\t37\t32\t93\t24\t100\t98\t17\t60\t6\t97\t49\t70\t38\t42\t96\t30\t21\t2\t65\t67\t45\t27\t26\t57\t62\t11\t88\t56\t66\t7...\n"
     ]
    }
   ],
   "source": [
    "w2v_ranks_results = []\n",
    "prepared_test_data = '/content/prep/prep_test.tsv'######### YOUR CODE HERE #############\n",
    "for line in open(prepared_test_data):\n",
    "    q, *ex = line.strip().split('\\t')\n",
    "    ranks = rank_candidates(q, ex, wv_embeddings, 300)\n",
    "    ranked_candidates = [r[0] for r in ranks]\n",
    "    w2v_ranks_results.append([ranked_candidates.index(i) + 1 for i in range(len(ranked_candidates))])\n",
    "    \n",
    "grader.submit_tag('W2VTokenizedRanks', matrix_to_string(w2v_ranks_results))"
   ]
  },
  {
   "cell_type": "markdown",
   "metadata": {
    "id": "kNeSohlNbR2a"
   },
   "source": [
    "## Advanced text embeddings\n",
    "\n",
    "There are many different models that can be used to train embeddings. You have already used word2vec embeddings. The more recent approaches include FastText, StarSpace, ELMo, BERT, and others.\n",
    "\n",
    "This article [“The Illustrated BERT, ELMo, and co. (How NLP Cracked Transfer Learning)”](http://jalammar.github.io/illustrated-bert/), walks you through some of them, namely:\n",
    "\n",
    "* ELMo \\[[paper](https://arxiv.org/abs/1802.05365)\\] (Embeddings from Language Models). These embeddings are learned functions of the internal states of a deep bidirectional language model (biLM), which is pre-trained on a large text corpus. It gives deep contextualized word representations that model both complex characteristics of word use (e.g., syntax and semantics), and how these uses vary across linguistic contexts (i.e., to model polysemy). [Here](https://tfhub.dev/google/elmo/1) is a good tutorial on how to use ELMo embeddings with TF Hub.\n",
    "\n",
    "* BERT \\[[paper](https://arxiv.org/abs/1810.04805)\\] (Bidirectional Encoder Representations from Transformers). These embeddings are based on the Transformer architecture, which [has been introduced in 2017](https://arxiv.org/abs/1706.03762) and since then become the leading model both in NLP and other areas. You can also read about Transformers [in this blogpost](http://jalammar.github.io/illustrated-transformer/). Pretrained BERT embeddings can be found in [the official repository of Google-Research](https://github.com/google-research/bert). Training BERT embeddings from scratch is computationally expensive, so people usually use / fine-tune the existing general purpose embeddings.\n",
    "\n",
    "In this assignment, we will pick the StarSpace model to play with, because it’s better suited to the duplicate detection task and can be trained with moderate resources. Please follow the notebook - the training pipeline is provided below. Once you have obtained the embeddings, please keep them for the final project of the course - you will need them again. \n",
    "\n",
    "\n",
    "### StarSpace\n",
    "\n",
    "[StarSpace](https://github.com/facebookresearch/StarSpace) is an algorithm proposed by Facebook. It is a general-purpose neural model for efficient learning of entity embeddings for solving a wide variety of problems.\n",
    "\n",
    "Unfortunately, StarSpace cannot be run on Windows and we recommend to use provided\n",
    "[docker container](https://github.com/hse-aml/natural-language-processing/blob/master/Docker-tutorial.md) or other alternatives. Don't delete results of this task because you will need it in the final project.\n",
    "\n",
    "### How it works and what's the main difference with word2vec?\n",
    "The main point in this section is that StarSpace can be trained specifically for some tasks. In contrast to word2vec model, which tries to train similar embeddings for words in similar contexts, StarSpace uses embeddings for the whole sentence (just as a sum of embeddings of words and phrases). Despite the fact that in both cases we get word embeddings as a result of the training, StarSpace embeddings are trained using some supervised data, e.g. a set of similar sentence pairs, and thus they can better suit the task.\n",
    "\n",
    "In our case, StarSpace should use two types of sentence pairs for training: \"positive\" and \"negative\". \"Positive\" examples are extracted from the train sample (duplicates, high similarity) and the \"negative\" examples are generated randomly (low similarity assumed). \n",
    "\n",
    "### How to choose the best params for the model?\n",
    "Normally, you would start with some default choice and then run extensive experiments to compare different strategies. However, we have some recommendations ready for you to save your time:\n",
    "- Be careful with choosing the suitable training mode. In this task we want to explore texts similarity which corresponds to *trainMode = 3*.\n",
    "- Use adagrad optimization (parameter *adagrad = true*).\n",
    "- Set the length of phrase equal to 1 (parameter *ngrams*), because we need embeddings only for words.\n",
    "- Don't use a large number of *epochs* (we think that 5 should be enough).\n",
    "- Try dimension *dim* equal to 100.\n",
    "- To compare embeddings usually *cosine* *similarity* is used.\n",
    "- Set *minCount* greater than 1 (for example, 2) if you don't want to get embeddings for extremely rare words.\n",
    "- Parameter *verbose = true* could show you the progress of the training process.\n",
    "- Set parameter *fileFormat* equals *labelDoc*.\n",
    "- Parameter *negSearchLimit* is responsible for a number of negative examples which is used during the training. We think that 10 will be enought for this task.\n",
    "- To increase a speed of training we recommend to set *learning rate* to 0.05."
   ]
  },
  {
   "cell_type": "markdown",
   "metadata": {
    "id": "bf7StvInbR2a"
   },
   "source": [
    "Train StarSpace embeddings for unigrams on the train dataset. You don't need to change the format of the input data. Just don't forget to use prepared version of the training data. \n",
    "\n",
    "If you follow the instruction, the training process will take about 1 hour. The size of the embeddings' dictionary should be approximately 100 000 (number of lines in the result file). If you got significantly more than this number, try to check all the instructions above."
   ]
  },
  {
   "cell_type": "code",
   "execution_count": null,
   "metadata": {
    "colab": {
     "background_save": true,
     "base_uri": "https://localhost:8080/"
    },
    "id": "kBB3gszvbR2a",
    "outputId": "470c1714-ca5b-445c-80bf-7f7633ef1734"
   },
   "outputs": [
    {
     "name": "stdout",
     "output_type": "stream",
     "text": [
      "Arguments: \n",
      "lr: 0.05\n",
      "dim: 100\n",
      "epoch: 5\n",
      "maxTrainTime: 8640000\n",
      "validationPatience: 10\n",
      "saveEveryEpoch: 0\n",
      "loss: hinge\n",
      "margin: 0.05\n",
      "similarity: cosine\n",
      "maxNegSamples: 10\n",
      "negSearchLimit: 10\n",
      "batchSize: 5\n",
      "thread: 10\n",
      "minCount: 2\n",
      "minCountLabel: 1\n",
      "label: __label__\n",
      "label: __label__\n",
      "ngrams: 1\n",
      "bucket: 2000000\n",
      "adagrad: 1\n",
      "trainMode: 3\n",
      "fileFormat: labelDoc\n",
      "normalizeText: 0\n",
      "dropoutLHS: 0\n",
      "dropoutRHS: 0\n",
      "useWeight: 0\n",
      "weightSep: :\n",
      "Start to initialize starspace model.\n",
      "Build dict from input file : /content/prep/prep_train.tsv\n",
      "Read 12M words\n",
      "Number of words in dictionary:  95058\n",
      "Number of labels in dictionary: 0\n",
      "Loading data from file : /content/prep/prep_train.tsv\n",
      "Total number of examples loaded : 999740\n",
      "Initialized model weights. Model size :\n",
      "matrix : 95058 100\n",
      "Training epoch 0: 0.05 0.01\n",
      "Epoch: 100.0%  lr: 0.040000  loss: 0.043526  eta: 0h13m  tot: 0h3m17s  (20.0%)\n",
      " ---+++                Epoch    0 Train error : 0.04382403 +++--- ☃\n",
      "Training epoch 1: 0.04 0.01\n",
      "Epoch: 100.0%  lr: 0.030010  loss: 0.013421  eta: 0h9m  tot: 0h6m20s  (40.0%)\n",
      " ---+++                Epoch    1 Train error : 0.01327332 +++--- ☃\n",
      "Training epoch 2: 0.03 0.01\n",
      "Epoch: 100.0%  lr: 0.020000  loss: 0.009358  eta: 0h5m  tot: 0h9m20s  (60.0%)\n",
      " ---+++                Epoch    2 Train error : 0.00939014 +++--- ☃\n",
      "Training epoch 3: 0.02 0.01\n",
      "Epoch: 100.0%  lr: 0.010000  loss: 0.007823  eta: 0h2m  tot: 0h12m17s  (80.0%)\n",
      " ---+++                Epoch    3 Train error : 0.00774477 +++--- ☃\n",
      "Training epoch 4: 0.01 0.01\n",
      "Epoch: 100.0%  lr: 0.000000  loss: 0.007093  eta: <1min   tot: 0h15m12s  (100.0%)\n",
      " ---+++                Epoch    4 Train error : 0.00687633 +++--- ☃\n",
      "Saving model to file : /content/prep/starspace_train_model\n",
      "Saving model in tsv format : /content/prep/starspace_train_model.tsv\n"
     ]
    }
   ],
   "source": [
    "######### TRAINING HAPPENING HERE #############\n",
    "! starspace train -trainFile \"/content/prep/prep_train.tsv\" -model \"/content/prep/starspace_train_model\" -trainMode 3 -adagrad true -ngrams 1 -epoch 5 -dim 100 -similarity cosine -minCount 2 -verbose 1 -fileFormat labelDoc -negSearchLimit 10 -lr 0.05"
   ]
  },
  {
   "cell_type": "markdown",
   "metadata": {
    "collapsed": true,
    "id": "nmgiyxyFbR2a"
   },
   "source": [
    "And now we can compare the new embeddings with the previous ones. You can find trained word vectors in the file *[model_file_name].tsv*. Upload the embeddings from StarSpace into a dict. "
   ]
  },
  {
   "cell_type": "code",
   "execution_count": 92,
   "metadata": {
    "colab": {
     "base_uri": "https://localhost:8080/"
    },
    "executionInfo": {
     "elapsed": 1084,
     "status": "ok",
     "timestamp": 1620377771004,
     "user": {
      "displayName": "Valentin Goryachev",
      "photoUrl": "",
      "userId": "06670255808124058379"
     },
     "user_tz": -180
    },
    "id": "Z8ZVjXqvCQ48",
    "outputId": "119621e0-0b1d-4bf6-89ae-4753affc4fbc"
   },
   "outputs": [
    {
     "name": "stdout",
     "output_type": "stream",
     "text": [
      "'converting string to list\\tConvert Google results object (pure js) to Python object\\n'\n",
      "'Which HTML 5 Canvas Javascript to use for making an interactive drawing tool?\\tEvent handling for geometries in Three.js?\\n'\n",
      "'Sending array via Ajax fails\\tGetting all list items of an unordered list in PHP\\n'\n",
      "'How to insert CookieCollection to CookieContainer?\\tC# create cookie from string and send it\\n'\n"
     ]
    }
   ],
   "source": [
    "cnt = 0\n",
    "dict_t = {}\n",
    "with open(\"/content/data/train.tsv\") as train_file:\n",
    "    for line in train_file:\n",
    "        if cnt > 3:\n",
    "            break\n",
    "        print(repr(line))\n",
    "        cnt += 1"
   ]
  },
  {
   "cell_type": "code",
   "execution_count": 93,
   "metadata": {
    "colab": {
     "base_uri": "https://localhost:8080/"
    },
    "executionInfo": {
     "elapsed": 953,
     "status": "ok",
     "timestamp": 1620377849911,
     "user": {
      "displayName": "Valentin Goryachev",
      "photoUrl": "",
      "userId": "06670255808124058379"
     },
     "user_tz": -180
    },
    "id": "Rl6u2afNC5R7",
    "outputId": "a8450237-4144-4b06-ced6-4f5bfc7b522e"
   },
   "outputs": [
    {
     "name": "stdout",
     "output_type": "stream",
     "text": [
      "'converting string list\\tconvert google results object pure js python object\\n'\n",
      "'html 5 canvas javascript use making interactive drawing tool\\tevent handling geometries threejs\\n'\n",
      "'sending array via ajax fails\\tgetting list items unordered list php\\n'\n",
      "'insert cookiecollection cookiecontainer\\tc# create cookie string send\\n'\n"
     ]
    }
   ],
   "source": [
    "cnt = 0\n",
    "dict_t = {}\n",
    "with open(\"/content/prep/prep_train.tsv\") as train_file:\n",
    "    for line in train_file:\n",
    "        if cnt > 3:\n",
    "            break\n",
    "        print(repr(line))\n",
    "        cnt += 1"
   ]
  },
  {
   "cell_type": "code",
   "execution_count": null,
   "metadata": {
    "id": "kbPTHSBCqBVb"
   },
   "outputs": [],
   "source": [
    "cnt = 0\n",
    "dict_t = {}\n",
    "with open(\"/content/prep/starspace_train_model.tsv\") as f:\n",
    "    for line in f:\n",
    "        arr = line.strip().split('\\t')\n",
    "        dict_t[arr[0]] = np.array(arr[1:], dtype=np.float32)\n",
    "    #dict_t = dict(x.rstrip().split(None, 1) for x in f)"
   ]
  },
  {
   "cell_type": "code",
   "execution_count": null,
   "metadata": {
    "id": "PYUOrJYeznc1"
   },
   "outputs": [],
   "source": [
    "starspace_embeddings_bin = open('')"
   ]
  },
  {
   "cell_type": "code",
   "execution_count": 64,
   "metadata": {
    "collapsed": true,
    "executionInfo": {
     "elapsed": 3562,
     "status": "ok",
     "timestamp": 1620372122158,
     "user": {
      "displayName": "Valentin Goryachev",
      "photoUrl": "",
      "userId": "06670255808124058379"
     },
     "user_tz": -180
    },
    "id": "zBjSYrWqbR2b"
   },
   "outputs": [],
   "source": [
    "starspace_embeddings = {}\n",
    "with open(\"/content/prep/starspace_train_model.tsv\") as f:\n",
    "    for line in f:\n",
    "        arr = line.strip().split('\\t')\n",
    "        starspace_embeddings[arr[0]] = np.array(arr[1:], dtype=np.float32)\n",
    "#starspace_embeddings = ######### YOUR CODE HERE #############"
   ]
  },
  {
   "cell_type": "code",
   "execution_count": 69,
   "metadata": {
    "collapsed": true,
    "executionInfo": {
     "elapsed": 320529,
     "status": "ok",
     "timestamp": 1620372489099,
     "user": {
      "displayName": "Valentin Goryachev",
      "photoUrl": "",
      "userId": "06670255808124058379"
     },
     "user_tz": -180
    },
    "id": "RthVLnxsbR2b"
   },
   "outputs": [],
   "source": [
    "ss_prepared_ranking = []\n",
    "for line in prepared_validation:\n",
    "    q, *ex = line\n",
    "    ranks = rank_candidates(q, ex, starspace_embeddings, 100)\n",
    "    ss_prepared_ranking.append([r[0] for r in ranks].index(0) + 1)"
   ]
  },
  {
   "cell_type": "code",
   "execution_count": 72,
   "metadata": {
    "colab": {
     "base_uri": "https://localhost:8080/"
    },
    "collapsed": true,
    "executionInfo": {
     "elapsed": 541,
     "status": "ok",
     "timestamp": 1620372516032,
     "user": {
      "displayName": "Valentin Goryachev",
      "photoUrl": "",
      "userId": "06670255808124058379"
     },
     "user_tz": -180
    },
    "id": "1i31qbZGbR2b",
    "outputId": "50c3ea11-4449-45e4-9dbc-8bb212e14f5c"
   },
   "outputs": [
    {
     "name": "stdout",
     "output_type": "stream",
     "text": [
      "DCG@   1: 0.514 | Hits@   1: 0.514\n",
      "DCG@   5: 0.611 | Hits@   5: 0.696\n",
      "DCG@  10: 0.631 | Hits@  10: 0.757\n",
      "DCG@ 100: 0.663 | Hits@ 100: 0.906\n",
      "DCG@ 500: 0.672 | Hits@ 500: 0.982\n",
      "DCG@1000: 0.674 | Hits@1000: 1.000\n"
     ]
    }
   ],
   "source": [
    "for k in [1, 5, 10, 100, 500, 1000]:\n",
    "    print(\"DCG@%4d: %.3f | Hits@%4d: %.3f\" % (k, dcg_score(ss_prepared_ranking, k), \n",
    "                                               k, hits_count(ss_prepared_ranking, k)))"
   ]
  },
  {
   "cell_type": "markdown",
   "metadata": {
    "id": "nlhYDjdgbR2b"
   },
   "source": [
    "Due to training for the particular task with the supervised data, you should expect to obtain a higher quality than for the previous approach. In additiion, despite the fact that StarSpace's trained vectors have a smaller dimension than word2vec's, it provides better results in this task."
   ]
  },
  {
   "cell_type": "markdown",
   "metadata": {
    "id": "aZeqfYSUbR2b"
   },
   "source": [
    "**Task 5 (StarSpaceRanks).** For each question from prepared *test.tsv* submit the ranks of the candidates for trained representation."
   ]
  },
  {
   "cell_type": "code",
   "execution_count": 76,
   "metadata": {
    "colab": {
     "base_uri": "https://localhost:8080/"
    },
    "collapsed": true,
    "executionInfo": {
     "elapsed": 35353,
     "status": "ok",
     "timestamp": 1620372710129,
     "user": {
      "displayName": "Valentin Goryachev",
      "photoUrl": "",
      "userId": "06670255808124058379"
     },
     "user_tz": -180
    },
    "id": "5Bwi-fWabR2b",
    "outputId": "abe6cc6a-3af1-46ad-c03c-c2d412997091"
   },
   "outputs": [
    {
     "name": "stdout",
     "output_type": "stream",
     "text": [
      "Current answer for task StarSpaceRanks is: 91\t85\t21\t34\t15\t78\t38\t79\t57\t69\t12\t44\t18\t51\t93\t83\t28\t25\t40\t52\t87\t39\t22\t97\t46\t6\t77\t55\t67\t2\t36\t90\t49\t76\t...\n"
     ]
    }
   ],
   "source": [
    "starspace_ranks_results = []\n",
    "prepared_test_data = \"/content/prep/prep_test.tsv\"# YOUR CODE HERE \n",
    "for line in open(prepared_test_data):\n",
    "    q, *ex = line.strip().split('\\t')\n",
    "    ranks = rank_candidates(q, ex, starspace_embeddings, 100)\n",
    "    ranked_candidates = [r[0] for r in ranks]\n",
    "    starspace_ranks_results.append([ranked_candidates.index(i) + 1 for i in range(len(ranked_candidates))])\n",
    "    \n",
    "grader.submit_tag('StarSpaceRanks', matrix_to_string(starspace_ranks_results))"
   ]
  },
  {
   "cell_type": "markdown",
   "metadata": {
    "id": "xCyjTNUSbR2b"
   },
   "source": [
    "Please, **don't remove** the file with these embeddings because you will need them in the final project."
   ]
  },
  {
   "cell_type": "markdown",
   "metadata": {
    "id": "8v4UkJQKbR2b"
   },
   "source": [
    "### Authorization & Submission\n",
    "To submit assignment parts to Cousera platform, please, enter your e-mail and token into variables below. You can generate token on this programming assignment page. <b>Note:</b> Token expires 30 minutes after generation."
   ]
  },
  {
   "cell_type": "code",
   "execution_count": 89,
   "metadata": {
    "colab": {
     "base_uri": "https://localhost:8080/"
    },
    "collapsed": true,
    "executionInfo": {
     "elapsed": 1126,
     "status": "ok",
     "timestamp": 1620373512504,
     "user": {
      "displayName": "Valentin Goryachev",
      "photoUrl": "",
      "userId": "06670255808124058379"
     },
     "user_tz": -180
    },
    "id": "jxFQ0UvobR2c",
    "outputId": "19600f55-3a32-483e-8dca-6564b222345b"
   },
   "outputs": [
    {
     "name": "stdout",
     "output_type": "stream",
     "text": [
      "You want to submit these parts:\n",
      "Task Question2Vec: 0.019293891059027776\n",
      "-0.028727213541666668\n",
      "0.046056111653645836\n",
      "0.08525933159722222\n",
      "0.02430555555555...\n",
      "Task HitsCount: 1.0\n",
      "0.5\n",
      "1.0\n",
      "0.5\n",
      "1.0\n",
      "0.3333333333333333\n",
      "0.6666666666666666\n",
      "1.0\n",
      "0.1\n",
      "0.2\n",
      "0.3\n",
      "0.4\n",
      "0.5\n",
      "0.6\n",
      "0.7\n",
      "0.8\n",
      "0.9\n",
      "1....\n",
      "Task DCGScore: 1.0\n",
      "0.5\n",
      "0.8154648767857288\n",
      "0.5\n",
      "0.8154648767857288\n",
      "0.3333333333333333\n",
      "0.5436432511904858\n",
      "0.7103099178...\n",
      "Task W2VTokenizedRanks: 95\t94\t7\t9\t64\t37\t32\t93\t24\t100\t98\t17\t60\t6\t97\t49\t70\t38\t42\t96\t30\t21\t2\t65\t67\t45\t27\t26\t57\t62\t11\t88\t56\t66\t7...\n",
      "Task StarSpaceRanks: 91\t85\t21\t34\t15\t78\t38\t79\t57\t69\t12\t44\t18\t51\t93\t83\t28\t25\t40\t52\t87\t39\t22\t97\t46\t6\t77\t55\t67\t2\t36\t90\t49\t76\t...\n"
     ]
    }
   ],
   "source": [
    "STUDENT_EMAIL = \"iskander0697@gmail.com\" \n",
    "STUDENT_TOKEN = \"Qukciqp8TlhhJ7aD\"\n",
    "grader.status()"
   ]
  },
  {
   "cell_type": "markdown",
   "metadata": {
    "id": "T0HOCCf_bR2c"
   },
   "source": [
    "If you want to submit these answers, run cell below"
   ]
  },
  {
   "cell_type": "code",
   "execution_count": 90,
   "metadata": {
    "colab": {
     "base_uri": "https://localhost:8080/"
    },
    "collapsed": true,
    "executionInfo": {
     "elapsed": 2091,
     "status": "ok",
     "timestamp": 1620373516805,
     "user": {
      "displayName": "Valentin Goryachev",
      "photoUrl": "",
      "userId": "06670255808124058379"
     },
     "user_tz": -180
    },
    "id": "_8gzJtREbR2c",
    "outputId": "28de9b3d-0966-4be4-cf14-5ecd3888fcf5"
   },
   "outputs": [
    {
     "name": "stdout",
     "output_type": "stream",
     "text": [
      "Submitted to Coursera platform. See results on assignment page!\n"
     ]
    }
   ],
   "source": [
    "grader.submit(STUDENT_EMAIL, STUDENT_TOKEN)"
   ]
  }
 ],
 "metadata": {
  "colab": {
   "collapsed_sections": [],
   "name": "\"week3-Embeddings.ipynb\"",
   "provenance": [
    {
     "file_id": "https://github.com/hse-aml/natural-language-processing/blob/master/week3/week3-Embeddings.ipynb",
     "timestamp": 1620216466112
    }
   ]
  },
  "kernelspec": {
   "display_name": "Python 3",
   "language": "python",
   "name": "python3"
  },
  "language_info": {
   "codemirror_mode": {
    "name": "ipython",
    "version": 3
   },
   "file_extension": ".py",
   "mimetype": "text/x-python",
   "name": "python",
   "nbconvert_exporter": "python",
   "pygments_lexer": "ipython3",
   "version": "3.5.2"
  },
  "widgets": {
   "application/vnd.jupyter.widget-state+json": {
    "016652659bff46129ce38880a25caa39": {
     "model_module": "@jupyter-widgets/controls",
     "model_name": "DescriptionStyleModel",
     "state": {
      "_model_module": "@jupyter-widgets/controls",
      "_model_module_version": "1.5.0",
      "_model_name": "DescriptionStyleModel",
      "_view_count": null,
      "_view_module": "@jupyter-widgets/base",
      "_view_module_version": "1.2.0",
      "_view_name": "StyleView",
      "description_width": ""
     }
    },
    "05bf6ef6bdee4b96810b9e8a6070336b": {
     "model_module": "@jupyter-widgets/controls",
     "model_name": "HBoxModel",
     "state": {
      "_dom_classes": [],
      "_model_module": "@jupyter-widgets/controls",
      "_model_module_version": "1.5.0",
      "_model_name": "HBoxModel",
      "_view_count": null,
      "_view_module": "@jupyter-widgets/controls",
      "_view_module_version": "1.5.0",
      "_view_name": "HBoxView",
      "box_style": "",
      "children": [
       "IPY_MODEL_d51c7b79c75749189c9a4a158ed42180",
       "IPY_MODEL_64d4ffdcbc054478a14380cb2cb3d2da"
      ],
      "layout": "IPY_MODEL_0ea4856711734dd49bc33ec7b0ee92c3"
     }
    },
    "0ea4856711734dd49bc33ec7b0ee92c3": {
     "model_module": "@jupyter-widgets/base",
     "model_name": "LayoutModel",
     "state": {
      "_model_module": "@jupyter-widgets/base",
      "_model_module_version": "1.2.0",
      "_model_name": "LayoutModel",
      "_view_count": null,
      "_view_module": "@jupyter-widgets/base",
      "_view_module_version": "1.2.0",
      "_view_name": "LayoutView",
      "align_content": null,
      "align_items": null,
      "align_self": null,
      "border": null,
      "bottom": null,
      "display": null,
      "flex": null,
      "flex_flow": null,
      "grid_area": null,
      "grid_auto_columns": null,
      "grid_auto_flow": null,
      "grid_auto_rows": null,
      "grid_column": null,
      "grid_gap": null,
      "grid_row": null,
      "grid_template_areas": null,
      "grid_template_columns": null,
      "grid_template_rows": null,
      "height": null,
      "justify_content": null,
      "justify_items": null,
      "left": null,
      "margin": null,
      "max_height": null,
      "max_width": null,
      "min_height": null,
      "min_width": null,
      "object_fit": null,
      "object_position": null,
      "order": null,
      "overflow": null,
      "overflow_x": null,
      "overflow_y": null,
      "padding": null,
      "right": null,
      "top": null,
      "visibility": null,
      "width": null
     }
    },
    "107a06d0c72048dabbb267682e46cc72": {
     "model_module": "@jupyter-widgets/base",
     "model_name": "LayoutModel",
     "state": {
      "_model_module": "@jupyter-widgets/base",
      "_model_module_version": "1.2.0",
      "_model_name": "LayoutModel",
      "_view_count": null,
      "_view_module": "@jupyter-widgets/base",
      "_view_module_version": "1.2.0",
      "_view_name": "LayoutView",
      "align_content": null,
      "align_items": null,
      "align_self": null,
      "border": null,
      "bottom": null,
      "display": null,
      "flex": null,
      "flex_flow": null,
      "grid_area": null,
      "grid_auto_columns": null,
      "grid_auto_flow": null,
      "grid_auto_rows": null,
      "grid_column": null,
      "grid_gap": null,
      "grid_row": null,
      "grid_template_areas": null,
      "grid_template_columns": null,
      "grid_template_rows": null,
      "height": null,
      "justify_content": null,
      "justify_items": null,
      "left": null,
      "margin": null,
      "max_height": null,
      "max_width": null,
      "min_height": null,
      "min_width": null,
      "object_fit": null,
      "object_position": null,
      "order": null,
      "overflow": null,
      "overflow_x": null,
      "overflow_y": null,
      "padding": null,
      "right": null,
      "top": null,
      "visibility": null,
      "width": null
     }
    },
    "112f8bc925594f4abf95036e1d8608a5": {
     "model_module": "@jupyter-widgets/controls",
     "model_name": "HBoxModel",
     "state": {
      "_dom_classes": [],
      "_model_module": "@jupyter-widgets/controls",
      "_model_module_version": "1.5.0",
      "_model_name": "HBoxModel",
      "_view_count": null,
      "_view_module": "@jupyter-widgets/controls",
      "_view_module_version": "1.5.0",
      "_view_name": "HBoxView",
      "box_style": "",
      "children": [
       "IPY_MODEL_e91995db5d1d4e17b92d789c7264a603",
       "IPY_MODEL_f4734f4359994bcdb4e5924d7bc32847"
      ],
      "layout": "IPY_MODEL_b91f044204f244e9b1b9efe386407835"
     }
    },
    "18a31af4b9d44d998dc3e6715e053d72": {
     "model_module": "@jupyter-widgets/controls",
     "model_name": "ProgressStyleModel",
     "state": {
      "_model_module": "@jupyter-widgets/controls",
      "_model_module_version": "1.5.0",
      "_model_name": "ProgressStyleModel",
      "_view_count": null,
      "_view_module": "@jupyter-widgets/base",
      "_view_module_version": "1.2.0",
      "_view_name": "StyleView",
      "bar_color": null,
      "description_width": "initial"
     }
    },
    "1fd25b60dc124ac9b70013ad94134ad8": {
     "model_module": "@jupyter-widgets/controls",
     "model_name": "ProgressStyleModel",
     "state": {
      "_model_module": "@jupyter-widgets/controls",
      "_model_module_version": "1.5.0",
      "_model_name": "ProgressStyleModel",
      "_view_count": null,
      "_view_module": "@jupyter-widgets/base",
      "_view_module_version": "1.2.0",
      "_view_name": "StyleView",
      "bar_color": null,
      "description_width": "initial"
     }
    },
    "22c0272148894d78832a6cff206dbdda": {
     "model_module": "@jupyter-widgets/base",
     "model_name": "LayoutModel",
     "state": {
      "_model_module": "@jupyter-widgets/base",
      "_model_module_version": "1.2.0",
      "_model_name": "LayoutModel",
      "_view_count": null,
      "_view_module": "@jupyter-widgets/base",
      "_view_module_version": "1.2.0",
      "_view_name": "LayoutView",
      "align_content": null,
      "align_items": null,
      "align_self": null,
      "border": null,
      "bottom": null,
      "display": null,
      "flex": null,
      "flex_flow": null,
      "grid_area": null,
      "grid_auto_columns": null,
      "grid_auto_flow": null,
      "grid_auto_rows": null,
      "grid_column": null,
      "grid_gap": null,
      "grid_row": null,
      "grid_template_areas": null,
      "grid_template_columns": null,
      "grid_template_rows": null,
      "height": null,
      "justify_content": null,
      "justify_items": null,
      "left": null,
      "margin": null,
      "max_height": null,
      "max_width": null,
      "min_height": null,
      "min_width": null,
      "object_fit": null,
      "object_position": null,
      "order": null,
      "overflow": null,
      "overflow_x": null,
      "overflow_y": null,
      "padding": null,
      "right": null,
      "top": null,
      "visibility": null,
      "width": null
     }
    },
    "4e7604a7e31c43c6951025b31d889a06": {
     "model_module": "@jupyter-widgets/controls",
     "model_name": "DescriptionStyleModel",
     "state": {
      "_model_module": "@jupyter-widgets/controls",
      "_model_module_version": "1.5.0",
      "_model_name": "DescriptionStyleModel",
      "_view_count": null,
      "_view_module": "@jupyter-widgets/base",
      "_view_module_version": "1.2.0",
      "_view_name": "StyleView",
      "description_width": ""
     }
    },
    "505a72f35516429cb2b74f5d7ba73f97": {
     "model_module": "@jupyter-widgets/controls",
     "model_name": "HTMLModel",
     "state": {
      "_dom_classes": [],
      "_model_module": "@jupyter-widgets/controls",
      "_model_module_version": "1.5.0",
      "_model_name": "HTMLModel",
      "_view_count": null,
      "_view_module": "@jupyter-widgets/controls",
      "_view_module_version": "1.5.0",
      "_view_name": "HTMLView",
      "description": "",
      "description_tooltip": null,
      "layout": "IPY_MODEL_22c0272148894d78832a6cff206dbdda",
      "placeholder": "​",
      "style": "IPY_MODEL_016652659bff46129ce38880a25caa39",
      "value": " 5.33k/5.33k [00:21&lt;00:00, 249B/s]"
     }
    },
    "528980f0c63d429daa8055dd07f16706": {
     "model_module": "@jupyter-widgets/controls",
     "model_name": "HTMLModel",
     "state": {
      "_dom_classes": [],
      "_model_module": "@jupyter-widgets/controls",
      "_model_module_version": "1.5.0",
      "_model_name": "HTMLModel",
      "_view_count": null,
      "_view_module": "@jupyter-widgets/controls",
      "_view_module_version": "1.5.0",
      "_view_name": "HTMLView",
      "description": "",
      "description_tooltip": null,
      "layout": "IPY_MODEL_be1c44f7f08a4c779883ff2823fcfbae",
      "placeholder": "​",
      "style": "IPY_MODEL_767b269743424942b0a2951b3ad9f373",
      "value": " 46.4M/46.4M [00:01&lt;00:00, 43.2MB/s]"
     }
    },
    "5dba220a53b34ac69ab83e79545481f3": {
     "model_module": "@jupyter-widgets/base",
     "model_name": "LayoutModel",
     "state": {
      "_model_module": "@jupyter-widgets/base",
      "_model_module_version": "1.2.0",
      "_model_name": "LayoutModel",
      "_view_count": null,
      "_view_module": "@jupyter-widgets/base",
      "_view_module_version": "1.2.0",
      "_view_name": "LayoutView",
      "align_content": null,
      "align_items": null,
      "align_self": null,
      "border": null,
      "bottom": null,
      "display": null,
      "flex": null,
      "flex_flow": null,
      "grid_area": null,
      "grid_auto_columns": null,
      "grid_auto_flow": null,
      "grid_auto_rows": null,
      "grid_column": null,
      "grid_gap": null,
      "grid_row": null,
      "grid_template_areas": null,
      "grid_template_columns": null,
      "grid_template_rows": null,
      "height": null,
      "justify_content": null,
      "justify_items": null,
      "left": null,
      "margin": null,
      "max_height": null,
      "max_width": null,
      "min_height": null,
      "min_width": null,
      "object_fit": null,
      "object_position": null,
      "order": null,
      "overflow": null,
      "overflow_x": null,
      "overflow_y": null,
      "padding": null,
      "right": null,
      "top": null,
      "visibility": null,
      "width": null
     }
    },
    "64d4ffdcbc054478a14380cb2cb3d2da": {
     "model_module": "@jupyter-widgets/controls",
     "model_name": "HTMLModel",
     "state": {
      "_dom_classes": [],
      "_model_module": "@jupyter-widgets/controls",
      "_model_module_version": "1.5.0",
      "_model_name": "HTMLModel",
      "_view_count": null,
      "_view_module": "@jupyter-widgets/controls",
      "_view_module_version": "1.5.0",
      "_view_name": "HTMLView",
      "description": "",
      "description_tooltip": null,
      "layout": "IPY_MODEL_89e141652f13488db257265f03566fc6",
      "placeholder": "​",
      "style": "IPY_MODEL_4e7604a7e31c43c6951025b31d889a06",
      "value": " 119M/119M [00:33&lt;00:00, 3.51MB/s]"
     }
    },
    "6589eb6328b74e01a0c3202f4981d9cd": {
     "model_module": "@jupyter-widgets/controls",
     "model_name": "HBoxModel",
     "state": {
      "_dom_classes": [],
      "_model_module": "@jupyter-widgets/controls",
      "_model_module_version": "1.5.0",
      "_model_name": "HBoxModel",
      "_view_count": null,
      "_view_module": "@jupyter-widgets/controls",
      "_view_module_version": "1.5.0",
      "_view_name": "HBoxView",
      "box_style": "",
      "children": [
       "IPY_MODEL_f4e6723708834d9aa2c98bd005646ba7",
       "IPY_MODEL_528980f0c63d429daa8055dd07f16706"
      ],
      "layout": "IPY_MODEL_bb536672ecc64f6891def83af061822b"
     }
    },
    "71e9afc0805c47a6b838b30e8b70685b": {
     "model_module": "@jupyter-widgets/controls",
     "model_name": "ProgressStyleModel",
     "state": {
      "_model_module": "@jupyter-widgets/controls",
      "_model_module_version": "1.5.0",
      "_model_name": "ProgressStyleModel",
      "_view_count": null,
      "_view_module": "@jupyter-widgets/base",
      "_view_module_version": "1.2.0",
      "_view_name": "StyleView",
      "bar_color": null,
      "description_width": "initial"
     }
    },
    "743cdca92e764600b242ef105dcd5c49": {
     "model_module": "@jupyter-widgets/base",
     "model_name": "LayoutModel",
     "state": {
      "_model_module": "@jupyter-widgets/base",
      "_model_module_version": "1.2.0",
      "_model_name": "LayoutModel",
      "_view_count": null,
      "_view_module": "@jupyter-widgets/base",
      "_view_module_version": "1.2.0",
      "_view_name": "LayoutView",
      "align_content": null,
      "align_items": null,
      "align_self": null,
      "border": null,
      "bottom": null,
      "display": null,
      "flex": null,
      "flex_flow": null,
      "grid_area": null,
      "grid_auto_columns": null,
      "grid_auto_flow": null,
      "grid_auto_rows": null,
      "grid_column": null,
      "grid_gap": null,
      "grid_row": null,
      "grid_template_areas": null,
      "grid_template_columns": null,
      "grid_template_rows": null,
      "height": null,
      "justify_content": null,
      "justify_items": null,
      "left": null,
      "margin": null,
      "max_height": null,
      "max_width": null,
      "min_height": null,
      "min_width": null,
      "object_fit": null,
      "object_position": null,
      "order": null,
      "overflow": null,
      "overflow_x": null,
      "overflow_y": null,
      "padding": null,
      "right": null,
      "top": null,
      "visibility": null,
      "width": null
     }
    },
    "767b269743424942b0a2951b3ad9f373": {
     "model_module": "@jupyter-widgets/controls",
     "model_name": "DescriptionStyleModel",
     "state": {
      "_model_module": "@jupyter-widgets/controls",
      "_model_module_version": "1.5.0",
      "_model_name": "DescriptionStyleModel",
      "_view_count": null,
      "_view_module": "@jupyter-widgets/base",
      "_view_module_version": "1.2.0",
      "_view_name": "StyleView",
      "description_width": ""
     }
    },
    "89e141652f13488db257265f03566fc6": {
     "model_module": "@jupyter-widgets/base",
     "model_name": "LayoutModel",
     "state": {
      "_model_module": "@jupyter-widgets/base",
      "_model_module_version": "1.2.0",
      "_model_name": "LayoutModel",
      "_view_count": null,
      "_view_module": "@jupyter-widgets/base",
      "_view_module_version": "1.2.0",
      "_view_name": "LayoutView",
      "align_content": null,
      "align_items": null,
      "align_self": null,
      "border": null,
      "bottom": null,
      "display": null,
      "flex": null,
      "flex_flow": null,
      "grid_area": null,
      "grid_auto_columns": null,
      "grid_auto_flow": null,
      "grid_auto_rows": null,
      "grid_column": null,
      "grid_gap": null,
      "grid_row": null,
      "grid_template_areas": null,
      "grid_template_columns": null,
      "grid_template_rows": null,
      "height": null,
      "justify_content": null,
      "justify_items": null,
      "left": null,
      "margin": null,
      "max_height": null,
      "max_width": null,
      "min_height": null,
      "min_width": null,
      "object_fit": null,
      "object_position": null,
      "order": null,
      "overflow": null,
      "overflow_x": null,
      "overflow_y": null,
      "padding": null,
      "right": null,
      "top": null,
      "visibility": null,
      "width": null
     }
    },
    "a745df305a414a4894f278f1407d3937": {
     "model_module": "@jupyter-widgets/base",
     "model_name": "LayoutModel",
     "state": {
      "_model_module": "@jupyter-widgets/base",
      "_model_module_version": "1.2.0",
      "_model_name": "LayoutModel",
      "_view_count": null,
      "_view_module": "@jupyter-widgets/base",
      "_view_module_version": "1.2.0",
      "_view_name": "LayoutView",
      "align_content": null,
      "align_items": null,
      "align_self": null,
      "border": null,
      "bottom": null,
      "display": null,
      "flex": null,
      "flex_flow": null,
      "grid_area": null,
      "grid_auto_columns": null,
      "grid_auto_flow": null,
      "grid_auto_rows": null,
      "grid_column": null,
      "grid_gap": null,
      "grid_row": null,
      "grid_template_areas": null,
      "grid_template_columns": null,
      "grid_template_rows": null,
      "height": null,
      "justify_content": null,
      "justify_items": null,
      "left": null,
      "margin": null,
      "max_height": null,
      "max_width": null,
      "min_height": null,
      "min_width": null,
      "object_fit": null,
      "object_position": null,
      "order": null,
      "overflow": null,
      "overflow_x": null,
      "overflow_y": null,
      "padding": null,
      "right": null,
      "top": null,
      "visibility": null,
      "width": null
     }
    },
    "ac76262ce4474dfb85f49ce7c27cb962": {
     "model_module": "@jupyter-widgets/base",
     "model_name": "LayoutModel",
     "state": {
      "_model_module": "@jupyter-widgets/base",
      "_model_module_version": "1.2.0",
      "_model_name": "LayoutModel",
      "_view_count": null,
      "_view_module": "@jupyter-widgets/base",
      "_view_module_version": "1.2.0",
      "_view_name": "LayoutView",
      "align_content": null,
      "align_items": null,
      "align_self": null,
      "border": null,
      "bottom": null,
      "display": null,
      "flex": null,
      "flex_flow": null,
      "grid_area": null,
      "grid_auto_columns": null,
      "grid_auto_flow": null,
      "grid_auto_rows": null,
      "grid_column": null,
      "grid_gap": null,
      "grid_row": null,
      "grid_template_areas": null,
      "grid_template_columns": null,
      "grid_template_rows": null,
      "height": null,
      "justify_content": null,
      "justify_items": null,
      "left": null,
      "margin": null,
      "max_height": null,
      "max_width": null,
      "min_height": null,
      "min_width": null,
      "object_fit": null,
      "object_position": null,
      "order": null,
      "overflow": null,
      "overflow_x": null,
      "overflow_y": null,
      "padding": null,
      "right": null,
      "top": null,
      "visibility": null,
      "width": null
     }
    },
    "ade77b67b14c4211bec5c1f61f717d0f": {
     "model_module": "@jupyter-widgets/controls",
     "model_name": "ProgressStyleModel",
     "state": {
      "_model_module": "@jupyter-widgets/controls",
      "_model_module_version": "1.5.0",
      "_model_name": "ProgressStyleModel",
      "_view_count": null,
      "_view_module": "@jupyter-widgets/base",
      "_view_module_version": "1.2.0",
      "_view_name": "StyleView",
      "bar_color": null,
      "description_width": "initial"
     }
    },
    "aeb4cb2d756c4de9ac0a8f5d5f389f88": {
     "model_module": "@jupyter-widgets/controls",
     "model_name": "HBoxModel",
     "state": {
      "_dom_classes": [],
      "_model_module": "@jupyter-widgets/controls",
      "_model_module_version": "1.5.0",
      "_model_name": "HBoxModel",
      "_view_count": null,
      "_view_module": "@jupyter-widgets/controls",
      "_view_module_version": "1.5.0",
      "_view_name": "HBoxView",
      "box_style": "",
      "children": [
       "IPY_MODEL_af58dbbc30584f188bf427bc335089db",
       "IPY_MODEL_505a72f35516429cb2b74f5d7ba73f97"
      ],
      "layout": "IPY_MODEL_c2d0122257854989bcac61830ab17411"
     }
    },
    "af58dbbc30584f188bf427bc335089db": {
     "model_module": "@jupyter-widgets/controls",
     "model_name": "FloatProgressModel",
     "state": {
      "_dom_classes": [],
      "_model_module": "@jupyter-widgets/controls",
      "_model_module_version": "1.5.0",
      "_model_name": "FloatProgressModel",
      "_view_count": null,
      "_view_module": "@jupyter-widgets/controls",
      "_view_module_version": "1.5.0",
      "_view_name": "ProgressView",
      "bar_style": "success",
      "description": "test_embeddings.tsv: 100%",
      "description_tooltip": null,
      "layout": "IPY_MODEL_a745df305a414a4894f278f1407d3937",
      "max": 5333,
      "min": 0,
      "orientation": "horizontal",
      "style": "IPY_MODEL_71e9afc0805c47a6b838b30e8b70685b",
      "value": 5333
     }
    },
    "b73b8195454b4390a20c3ed2aec9b5f0": {
     "model_module": "@jupyter-widgets/controls",
     "model_name": "FloatProgressModel",
     "state": {
      "_dom_classes": [],
      "_model_module": "@jupyter-widgets/controls",
      "_model_module_version": "1.5.0",
      "_model_name": "FloatProgressModel",
      "_view_count": null,
      "_view_module": "@jupyter-widgets/controls",
      "_view_module_version": "1.5.0",
      "_view_name": "ProgressView",
      "bar_style": "success",
      "description": "validation.tsv: 100%",
      "description_tooltip": null,
      "layout": "IPY_MODEL_743cdca92e764600b242ef105dcd5c49",
      "max": 535543630,
      "min": 0,
      "orientation": "horizontal",
      "style": "IPY_MODEL_ade77b67b14c4211bec5c1f61f717d0f",
      "value": 535543630
     }
    },
    "b83e535a394a4aaca506e73737ec6691": {
     "model_module": "@jupyter-widgets/controls",
     "model_name": "ProgressStyleModel",
     "state": {
      "_model_module": "@jupyter-widgets/controls",
      "_model_module_version": "1.5.0",
      "_model_name": "ProgressStyleModel",
      "_view_count": null,
      "_view_module": "@jupyter-widgets/base",
      "_view_module_version": "1.2.0",
      "_view_name": "StyleView",
      "bar_color": null,
      "description_width": "initial"
     }
    },
    "b91f044204f244e9b1b9efe386407835": {
     "model_module": "@jupyter-widgets/base",
     "model_name": "LayoutModel",
     "state": {
      "_model_module": "@jupyter-widgets/base",
      "_model_module_version": "1.2.0",
      "_model_name": "LayoutModel",
      "_view_count": null,
      "_view_module": "@jupyter-widgets/base",
      "_view_module_version": "1.2.0",
      "_view_name": "LayoutView",
      "align_content": null,
      "align_items": null,
      "align_self": null,
      "border": null,
      "bottom": null,
      "display": null,
      "flex": null,
      "flex_flow": null,
      "grid_area": null,
      "grid_auto_columns": null,
      "grid_auto_flow": null,
      "grid_auto_rows": null,
      "grid_column": null,
      "grid_gap": null,
      "grid_row": null,
      "grid_template_areas": null,
      "grid_template_columns": null,
      "grid_template_rows": null,
      "height": null,
      "justify_content": null,
      "justify_items": null,
      "left": null,
      "margin": null,
      "max_height": null,
      "max_width": null,
      "min_height": null,
      "min_width": null,
      "object_fit": null,
      "object_position": null,
      "order": null,
      "overflow": null,
      "overflow_x": null,
      "overflow_y": null,
      "padding": null,
      "right": null,
      "top": null,
      "visibility": null,
      "width": null
     }
    },
    "bb536672ecc64f6891def83af061822b": {
     "model_module": "@jupyter-widgets/base",
     "model_name": "LayoutModel",
     "state": {
      "_model_module": "@jupyter-widgets/base",
      "_model_module_version": "1.2.0",
      "_model_name": "LayoutModel",
      "_view_count": null,
      "_view_module": "@jupyter-widgets/base",
      "_view_module_version": "1.2.0",
      "_view_name": "LayoutView",
      "align_content": null,
      "align_items": null,
      "align_self": null,
      "border": null,
      "bottom": null,
      "display": null,
      "flex": null,
      "flex_flow": null,
      "grid_area": null,
      "grid_auto_columns": null,
      "grid_auto_flow": null,
      "grid_auto_rows": null,
      "grid_column": null,
      "grid_gap": null,
      "grid_row": null,
      "grid_template_areas": null,
      "grid_template_columns": null,
      "grid_template_rows": null,
      "height": null,
      "justify_content": null,
      "justify_items": null,
      "left": null,
      "margin": null,
      "max_height": null,
      "max_width": null,
      "min_height": null,
      "min_width": null,
      "object_fit": null,
      "object_position": null,
      "order": null,
      "overflow": null,
      "overflow_x": null,
      "overflow_y": null,
      "padding": null,
      "right": null,
      "top": null,
      "visibility": null,
      "width": null
     }
    },
    "be1c44f7f08a4c779883ff2823fcfbae": {
     "model_module": "@jupyter-widgets/base",
     "model_name": "LayoutModel",
     "state": {
      "_model_module": "@jupyter-widgets/base",
      "_model_module_version": "1.2.0",
      "_model_name": "LayoutModel",
      "_view_count": null,
      "_view_module": "@jupyter-widgets/base",
      "_view_module_version": "1.2.0",
      "_view_name": "LayoutView",
      "align_content": null,
      "align_items": null,
      "align_self": null,
      "border": null,
      "bottom": null,
      "display": null,
      "flex": null,
      "flex_flow": null,
      "grid_area": null,
      "grid_auto_columns": null,
      "grid_auto_flow": null,
      "grid_auto_rows": null,
      "grid_column": null,
      "grid_gap": null,
      "grid_row": null,
      "grid_template_areas": null,
      "grid_template_columns": null,
      "grid_template_rows": null,
      "height": null,
      "justify_content": null,
      "justify_items": null,
      "left": null,
      "margin": null,
      "max_height": null,
      "max_width": null,
      "min_height": null,
      "min_width": null,
      "object_fit": null,
      "object_position": null,
      "order": null,
      "overflow": null,
      "overflow_x": null,
      "overflow_y": null,
      "padding": null,
      "right": null,
      "top": null,
      "visibility": null,
      "width": null
     }
    },
    "be2a8b879b184b26aae3cb8c4351cb0d": {
     "model_module": "@jupyter-widgets/base",
     "model_name": "LayoutModel",
     "state": {
      "_model_module": "@jupyter-widgets/base",
      "_model_module_version": "1.2.0",
      "_model_name": "LayoutModel",
      "_view_count": null,
      "_view_module": "@jupyter-widgets/base",
      "_view_module_version": "1.2.0",
      "_view_name": "LayoutView",
      "align_content": null,
      "align_items": null,
      "align_self": null,
      "border": null,
      "bottom": null,
      "display": null,
      "flex": null,
      "flex_flow": null,
      "grid_area": null,
      "grid_auto_columns": null,
      "grid_auto_flow": null,
      "grid_auto_rows": null,
      "grid_column": null,
      "grid_gap": null,
      "grid_row": null,
      "grid_template_areas": null,
      "grid_template_columns": null,
      "grid_template_rows": null,
      "height": null,
      "justify_content": null,
      "justify_items": null,
      "left": null,
      "margin": null,
      "max_height": null,
      "max_width": null,
      "min_height": null,
      "min_width": null,
      "object_fit": null,
      "object_position": null,
      "order": null,
      "overflow": null,
      "overflow_x": null,
      "overflow_y": null,
      "padding": null,
      "right": null,
      "top": null,
      "visibility": null,
      "width": null
     }
    },
    "c2d0122257854989bcac61830ab17411": {
     "model_module": "@jupyter-widgets/base",
     "model_name": "LayoutModel",
     "state": {
      "_model_module": "@jupyter-widgets/base",
      "_model_module_version": "1.2.0",
      "_model_name": "LayoutModel",
      "_view_count": null,
      "_view_module": "@jupyter-widgets/base",
      "_view_module_version": "1.2.0",
      "_view_name": "LayoutView",
      "align_content": null,
      "align_items": null,
      "align_self": null,
      "border": null,
      "bottom": null,
      "display": null,
      "flex": null,
      "flex_flow": null,
      "grid_area": null,
      "grid_auto_columns": null,
      "grid_auto_flow": null,
      "grid_auto_rows": null,
      "grid_column": null,
      "grid_gap": null,
      "grid_row": null,
      "grid_template_areas": null,
      "grid_template_columns": null,
      "grid_template_rows": null,
      "height": null,
      "justify_content": null,
      "justify_items": null,
      "left": null,
      "margin": null,
      "max_height": null,
      "max_width": null,
      "min_height": null,
      "min_width": null,
      "object_fit": null,
      "object_position": null,
      "order": null,
      "overflow": null,
      "overflow_x": null,
      "overflow_y": null,
      "padding": null,
      "right": null,
      "top": null,
      "visibility": null,
      "width": null
     }
    },
    "d51c7b79c75749189c9a4a158ed42180": {
     "model_module": "@jupyter-widgets/controls",
     "model_name": "FloatProgressModel",
     "state": {
      "_dom_classes": [],
      "_model_module": "@jupyter-widgets/controls",
      "_model_module_version": "1.5.0",
      "_model_name": "FloatProgressModel",
      "_view_count": null,
      "_view_module": "@jupyter-widgets/controls",
      "_view_module_version": "1.5.0",
      "_view_name": "ProgressView",
      "bar_style": "success",
      "description": "train.tsv: 100%",
      "description_tooltip": null,
      "layout": "IPY_MODEL_e9f662db86294618be297b3b08d3aaae",
      "max": 119127793,
      "min": 0,
      "orientation": "horizontal",
      "style": "IPY_MODEL_18a31af4b9d44d998dc3e6715e053d72",
      "value": 119127793
     }
    },
    "db7542869fc74af19ea76b50d7a93074": {
     "model_module": "@jupyter-widgets/controls",
     "model_name": "HBoxModel",
     "state": {
      "_dom_classes": [],
      "_model_module": "@jupyter-widgets/controls",
      "_model_module_version": "1.5.0",
      "_model_name": "HBoxModel",
      "_view_count": null,
      "_view_module": "@jupyter-widgets/controls",
      "_view_module_version": "1.5.0",
      "_view_name": "HBoxView",
      "box_style": "",
      "children": [
       "IPY_MODEL_b73b8195454b4390a20c3ed2aec9b5f0",
       "IPY_MODEL_f6a0b247d50e41ad86c7a41d4b538808"
      ],
      "layout": "IPY_MODEL_be2a8b879b184b26aae3cb8c4351cb0d"
     }
    },
    "e717c785a39f4c30a680d03bb96008f7": {
     "model_module": "@jupyter-widgets/controls",
     "model_name": "DescriptionStyleModel",
     "state": {
      "_model_module": "@jupyter-widgets/controls",
      "_model_module_version": "1.5.0",
      "_model_name": "DescriptionStyleModel",
      "_view_count": null,
      "_view_module": "@jupyter-widgets/base",
      "_view_module_version": "1.2.0",
      "_view_name": "StyleView",
      "description_width": ""
     }
    },
    "e91995db5d1d4e17b92d789c7264a603": {
     "model_module": "@jupyter-widgets/controls",
     "model_name": "FloatProgressModel",
     "state": {
      "_dom_classes": [],
      "_model_module": "@jupyter-widgets/controls",
      "_model_module_version": "1.5.0",
      "_model_name": "FloatProgressModel",
      "_view_count": null,
      "_view_module": "@jupyter-widgets/controls",
      "_view_module_version": "1.5.0",
      "_view_name": "ProgressView",
      "bar_style": "success",
      "description": "GoogleNews-vectors-negative300.bin.gz: 100%",
      "description_tooltip": null,
      "layout": "IPY_MODEL_ef528320a2d54d13b44cb6687bcd7429",
      "max": 1647046227,
      "min": 0,
      "orientation": "horizontal",
      "style": "IPY_MODEL_1fd25b60dc124ac9b70013ad94134ad8",
      "value": 1647046227
     }
    },
    "e9f662db86294618be297b3b08d3aaae": {
     "model_module": "@jupyter-widgets/base",
     "model_name": "LayoutModel",
     "state": {
      "_model_module": "@jupyter-widgets/base",
      "_model_module_version": "1.2.0",
      "_model_name": "LayoutModel",
      "_view_count": null,
      "_view_module": "@jupyter-widgets/base",
      "_view_module_version": "1.2.0",
      "_view_name": "LayoutView",
      "align_content": null,
      "align_items": null,
      "align_self": null,
      "border": null,
      "bottom": null,
      "display": null,
      "flex": null,
      "flex_flow": null,
      "grid_area": null,
      "grid_auto_columns": null,
      "grid_auto_flow": null,
      "grid_auto_rows": null,
      "grid_column": null,
      "grid_gap": null,
      "grid_row": null,
      "grid_template_areas": null,
      "grid_template_columns": null,
      "grid_template_rows": null,
      "height": null,
      "justify_content": null,
      "justify_items": null,
      "left": null,
      "margin": null,
      "max_height": null,
      "max_width": null,
      "min_height": null,
      "min_width": null,
      "object_fit": null,
      "object_position": null,
      "order": null,
      "overflow": null,
      "overflow_x": null,
      "overflow_y": null,
      "padding": null,
      "right": null,
      "top": null,
      "visibility": null,
      "width": null
     }
    },
    "ef528320a2d54d13b44cb6687bcd7429": {
     "model_module": "@jupyter-widgets/base",
     "model_name": "LayoutModel",
     "state": {
      "_model_module": "@jupyter-widgets/base",
      "_model_module_version": "1.2.0",
      "_model_name": "LayoutModel",
      "_view_count": null,
      "_view_module": "@jupyter-widgets/base",
      "_view_module_version": "1.2.0",
      "_view_name": "LayoutView",
      "align_content": null,
      "align_items": null,
      "align_self": null,
      "border": null,
      "bottom": null,
      "display": null,
      "flex": null,
      "flex_flow": null,
      "grid_area": null,
      "grid_auto_columns": null,
      "grid_auto_flow": null,
      "grid_auto_rows": null,
      "grid_column": null,
      "grid_gap": null,
      "grid_row": null,
      "grid_template_areas": null,
      "grid_template_columns": null,
      "grid_template_rows": null,
      "height": null,
      "justify_content": null,
      "justify_items": null,
      "left": null,
      "margin": null,
      "max_height": null,
      "max_width": null,
      "min_height": null,
      "min_width": null,
      "object_fit": null,
      "object_position": null,
      "order": null,
      "overflow": null,
      "overflow_x": null,
      "overflow_y": null,
      "padding": null,
      "right": null,
      "top": null,
      "visibility": null,
      "width": null
     }
    },
    "f4734f4359994bcdb4e5924d7bc32847": {
     "model_module": "@jupyter-widgets/controls",
     "model_name": "HTMLModel",
     "state": {
      "_dom_classes": [],
      "_model_module": "@jupyter-widgets/controls",
      "_model_module_version": "1.5.0",
      "_model_name": "HTMLModel",
      "_view_count": null,
      "_view_module": "@jupyter-widgets/controls",
      "_view_module_version": "1.5.0",
      "_view_name": "HTMLView",
      "description": "",
      "description_tooltip": null,
      "layout": "IPY_MODEL_107a06d0c72048dabbb267682e46cc72",
      "placeholder": "​",
      "style": "IPY_MODEL_ffb6f67cf849473b97f8bbbcc66adefd",
      "value": " 1.65G/1.65G [00:21&lt;00:00, 77.6MB/s]"
     }
    },
    "f4e6723708834d9aa2c98bd005646ba7": {
     "model_module": "@jupyter-widgets/controls",
     "model_name": "FloatProgressModel",
     "state": {
      "_dom_classes": [],
      "_model_module": "@jupyter-widgets/controls",
      "_model_module_version": "1.5.0",
      "_model_name": "FloatProgressModel",
      "_view_count": null,
      "_view_module": "@jupyter-widgets/controls",
      "_view_module_version": "1.5.0",
      "_view_name": "ProgressView",
      "bar_style": "success",
      "description": "test.tsv: 100%",
      "description_tooltip": null,
      "layout": "IPY_MODEL_ac76262ce4474dfb85f49ce7c27cb962",
      "max": 46408910,
      "min": 0,
      "orientation": "horizontal",
      "style": "IPY_MODEL_b83e535a394a4aaca506e73737ec6691",
      "value": 46408910
     }
    },
    "f6a0b247d50e41ad86c7a41d4b538808": {
     "model_module": "@jupyter-widgets/controls",
     "model_name": "HTMLModel",
     "state": {
      "_dom_classes": [],
      "_model_module": "@jupyter-widgets/controls",
      "_model_module_version": "1.5.0",
      "_model_name": "HTMLModel",
      "_view_count": null,
      "_view_module": "@jupyter-widgets/controls",
      "_view_module_version": "1.5.0",
      "_view_name": "HTMLView",
      "description": "",
      "description_tooltip": null,
      "layout": "IPY_MODEL_5dba220a53b34ac69ab83e79545481f3",
      "placeholder": "​",
      "style": "IPY_MODEL_e717c785a39f4c30a680d03bb96008f7",
      "value": " 536M/536M [00:08&lt;00:00, 64.4MB/s]"
     }
    },
    "ffb6f67cf849473b97f8bbbcc66adefd": {
     "model_module": "@jupyter-widgets/controls",
     "model_name": "DescriptionStyleModel",
     "state": {
      "_model_module": "@jupyter-widgets/controls",
      "_model_module_version": "1.5.0",
      "_model_name": "DescriptionStyleModel",
      "_view_count": null,
      "_view_module": "@jupyter-widgets/base",
      "_view_module_version": "1.2.0",
      "_view_name": "StyleView",
      "description_width": ""
     }
    }
   }
  }
 },
 "nbformat": 4,
 "nbformat_minor": 1
}
